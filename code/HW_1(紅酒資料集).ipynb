{
  "nbformat": 4,
  "nbformat_minor": 0,
  "metadata": {
    "kernelspec": {
      "display_name": "Python 3",
      "language": "python",
      "name": "python3"
    },
    "language_info": {
      "codemirror_mode": {
        "name": "ipython",
        "version": 3
      },
      "file_extension": ".py",
      "mimetype": "text/x-python",
      "name": "python",
      "nbconvert_exporter": "python",
      "pygments_lexer": "ipython3",
      "version": "3.7.6"
    },
    "colab": {
      "name": "HW_1(紅酒資料集)",
      "provenance": [],
      "collapsed_sections": [],
      "toc_visible": true,
      "include_colab_link": true
    }
  },
  "cells": [
    {
      "cell_type": "markdown",
      "metadata": {
        "id": "view-in-github",
        "colab_type": "text"
      },
      "source": [
        "<a href=\"https://colab.research.google.com/github/m5532m5532/hw1_M10921008/blob/main/code/HW_1(%E7%B4%85%E9%85%92%E8%B3%87%E6%96%99%E9%9B%86).ipynb\" target=\"_parent\"><img src=\"https://colab.research.google.com/assets/colab-badge.svg\" alt=\"Open In Colab\"/></a>"
      ]
    },
    {
      "cell_type": "markdown",
      "metadata": {
        "id": "x8LTM1ZaGntp"
      },
      "source": [
        "## 資料前處理"
      ]
    },
    {
      "cell_type": "code",
      "metadata": {
        "id": "ojCOX4s3Gntq"
      },
      "source": [
        "#Adult_data.csv\n",
        "import pandas as pd"
      ],
      "execution_count": 1,
      "outputs": []
    },
    {
      "cell_type": "code",
      "metadata": {
        "id": "cfsYsAIgGzB9",
        "outputId": "22c27eea-7e2c-465b-de5c-fbacfb64ff5a",
        "colab": {
          "base_uri": "https://localhost:8080/",
          "height": 34
        }
      },
      "source": [
        "from google.colab import drive\n",
        "drive.mount('/content/drive')"
      ],
      "execution_count": 2,
      "outputs": [
        {
          "output_type": "stream",
          "text": [
            "Mounted at /content/drive\n"
          ],
          "name": "stdout"
        }
      ]
    },
    {
      "cell_type": "code",
      "metadata": {
        "id": "2l21dTbVGntu",
        "outputId": "3557ba39-fe9a-4a15-aafb-58e977cf4f9d",
        "colab": {
          "base_uri": "https://localhost:8080/",
          "height": 473
        }
      },
      "source": [
        "df = pd.read_csv(\"/content/drive/My Drive/Colab Notebooks/資料探勘作業/winequality-red.csv\")\n",
        "df"
      ],
      "execution_count": 5,
      "outputs": [
        {
          "output_type": "execute_result",
          "data": {
            "text/html": [
              "<div>\n",
              "<style scoped>\n",
              "    .dataframe tbody tr th:only-of-type {\n",
              "        vertical-align: middle;\n",
              "    }\n",
              "\n",
              "    .dataframe tbody tr th {\n",
              "        vertical-align: top;\n",
              "    }\n",
              "\n",
              "    .dataframe thead th {\n",
              "        text-align: right;\n",
              "    }\n",
              "</style>\n",
              "<table border=\"1\" class=\"dataframe\">\n",
              "  <thead>\n",
              "    <tr style=\"text-align: right;\">\n",
              "      <th></th>\n",
              "      <th>fixed acidity</th>\n",
              "      <th>volatile acidity</th>\n",
              "      <th>citric acid</th>\n",
              "      <th>residual sugar</th>\n",
              "      <th>chlorides</th>\n",
              "      <th>free sulfur dioxide</th>\n",
              "      <th>total sulfur dioxide</th>\n",
              "      <th>density</th>\n",
              "      <th>pH</th>\n",
              "      <th>sulphates</th>\n",
              "      <th>alcohol</th>\n",
              "      <th>quality</th>\n",
              "    </tr>\n",
              "  </thead>\n",
              "  <tbody>\n",
              "    <tr>\n",
              "      <th>0</th>\n",
              "      <td>7.4</td>\n",
              "      <td>0.700</td>\n",
              "      <td>0.00</td>\n",
              "      <td>1.9</td>\n",
              "      <td>0.076</td>\n",
              "      <td>11.0</td>\n",
              "      <td>34.0</td>\n",
              "      <td>0.99780</td>\n",
              "      <td>3.51</td>\n",
              "      <td>0.56</td>\n",
              "      <td>9.4</td>\n",
              "      <td>5</td>\n",
              "    </tr>\n",
              "    <tr>\n",
              "      <th>1</th>\n",
              "      <td>7.8</td>\n",
              "      <td>0.880</td>\n",
              "      <td>0.00</td>\n",
              "      <td>2.6</td>\n",
              "      <td>0.098</td>\n",
              "      <td>25.0</td>\n",
              "      <td>67.0</td>\n",
              "      <td>0.99680</td>\n",
              "      <td>3.20</td>\n",
              "      <td>0.68</td>\n",
              "      <td>9.8</td>\n",
              "      <td>5</td>\n",
              "    </tr>\n",
              "    <tr>\n",
              "      <th>2</th>\n",
              "      <td>7.8</td>\n",
              "      <td>0.760</td>\n",
              "      <td>0.04</td>\n",
              "      <td>2.3</td>\n",
              "      <td>0.092</td>\n",
              "      <td>15.0</td>\n",
              "      <td>54.0</td>\n",
              "      <td>0.99700</td>\n",
              "      <td>3.26</td>\n",
              "      <td>0.65</td>\n",
              "      <td>9.8</td>\n",
              "      <td>5</td>\n",
              "    </tr>\n",
              "    <tr>\n",
              "      <th>3</th>\n",
              "      <td>11.2</td>\n",
              "      <td>0.280</td>\n",
              "      <td>0.56</td>\n",
              "      <td>1.9</td>\n",
              "      <td>0.075</td>\n",
              "      <td>17.0</td>\n",
              "      <td>60.0</td>\n",
              "      <td>0.99800</td>\n",
              "      <td>3.16</td>\n",
              "      <td>0.58</td>\n",
              "      <td>9.8</td>\n",
              "      <td>6</td>\n",
              "    </tr>\n",
              "    <tr>\n",
              "      <th>4</th>\n",
              "      <td>7.4</td>\n",
              "      <td>0.700</td>\n",
              "      <td>0.00</td>\n",
              "      <td>1.9</td>\n",
              "      <td>0.076</td>\n",
              "      <td>11.0</td>\n",
              "      <td>34.0</td>\n",
              "      <td>0.99780</td>\n",
              "      <td>3.51</td>\n",
              "      <td>0.56</td>\n",
              "      <td>9.4</td>\n",
              "      <td>5</td>\n",
              "    </tr>\n",
              "    <tr>\n",
              "      <th>...</th>\n",
              "      <td>...</td>\n",
              "      <td>...</td>\n",
              "      <td>...</td>\n",
              "      <td>...</td>\n",
              "      <td>...</td>\n",
              "      <td>...</td>\n",
              "      <td>...</td>\n",
              "      <td>...</td>\n",
              "      <td>...</td>\n",
              "      <td>...</td>\n",
              "      <td>...</td>\n",
              "      <td>...</td>\n",
              "    </tr>\n",
              "    <tr>\n",
              "      <th>1594</th>\n",
              "      <td>6.2</td>\n",
              "      <td>0.600</td>\n",
              "      <td>0.08</td>\n",
              "      <td>2.0</td>\n",
              "      <td>0.090</td>\n",
              "      <td>32.0</td>\n",
              "      <td>44.0</td>\n",
              "      <td>0.99490</td>\n",
              "      <td>3.45</td>\n",
              "      <td>0.58</td>\n",
              "      <td>10.5</td>\n",
              "      <td>5</td>\n",
              "    </tr>\n",
              "    <tr>\n",
              "      <th>1595</th>\n",
              "      <td>5.9</td>\n",
              "      <td>0.550</td>\n",
              "      <td>0.10</td>\n",
              "      <td>2.2</td>\n",
              "      <td>0.062</td>\n",
              "      <td>39.0</td>\n",
              "      <td>51.0</td>\n",
              "      <td>0.99512</td>\n",
              "      <td>3.52</td>\n",
              "      <td>0.76</td>\n",
              "      <td>11.2</td>\n",
              "      <td>6</td>\n",
              "    </tr>\n",
              "    <tr>\n",
              "      <th>1596</th>\n",
              "      <td>6.3</td>\n",
              "      <td>0.510</td>\n",
              "      <td>0.13</td>\n",
              "      <td>2.3</td>\n",
              "      <td>0.076</td>\n",
              "      <td>29.0</td>\n",
              "      <td>40.0</td>\n",
              "      <td>0.99574</td>\n",
              "      <td>3.42</td>\n",
              "      <td>0.75</td>\n",
              "      <td>11.0</td>\n",
              "      <td>6</td>\n",
              "    </tr>\n",
              "    <tr>\n",
              "      <th>1597</th>\n",
              "      <td>5.9</td>\n",
              "      <td>0.645</td>\n",
              "      <td>0.12</td>\n",
              "      <td>2.0</td>\n",
              "      <td>0.075</td>\n",
              "      <td>32.0</td>\n",
              "      <td>44.0</td>\n",
              "      <td>0.99547</td>\n",
              "      <td>3.57</td>\n",
              "      <td>0.71</td>\n",
              "      <td>10.2</td>\n",
              "      <td>5</td>\n",
              "    </tr>\n",
              "    <tr>\n",
              "      <th>1598</th>\n",
              "      <td>6.0</td>\n",
              "      <td>0.310</td>\n",
              "      <td>0.47</td>\n",
              "      <td>3.6</td>\n",
              "      <td>0.067</td>\n",
              "      <td>18.0</td>\n",
              "      <td>42.0</td>\n",
              "      <td>0.99549</td>\n",
              "      <td>3.39</td>\n",
              "      <td>0.66</td>\n",
              "      <td>11.0</td>\n",
              "      <td>6</td>\n",
              "    </tr>\n",
              "  </tbody>\n",
              "</table>\n",
              "<p>1599 rows × 12 columns</p>\n",
              "</div>"
            ],
            "text/plain": [
              "      fixed acidity  volatile acidity  citric acid  ...  sulphates  alcohol  quality\n",
              "0               7.4             0.700         0.00  ...       0.56      9.4        5\n",
              "1               7.8             0.880         0.00  ...       0.68      9.8        5\n",
              "2               7.8             0.760         0.04  ...       0.65      9.8        5\n",
              "3              11.2             0.280         0.56  ...       0.58      9.8        6\n",
              "4               7.4             0.700         0.00  ...       0.56      9.4        5\n",
              "...             ...               ...          ...  ...        ...      ...      ...\n",
              "1594            6.2             0.600         0.08  ...       0.58     10.5        5\n",
              "1595            5.9             0.550         0.10  ...       0.76     11.2        6\n",
              "1596            6.3             0.510         0.13  ...       0.75     11.0        6\n",
              "1597            5.9             0.645         0.12  ...       0.71     10.2        5\n",
              "1598            6.0             0.310         0.47  ...       0.66     11.0        6\n",
              "\n",
              "[1599 rows x 12 columns]"
            ]
          },
          "metadata": {
            "tags": []
          },
          "execution_count": 5
        }
      ]
    },
    {
      "cell_type": "markdown",
      "metadata": {
        "id": "KEPNiNl9Gnuf"
      },
      "source": [
        "## 資料探索"
      ]
    },
    {
      "cell_type": "code",
      "metadata": {
        "id": "xLWja5J9Gnuf",
        "outputId": "f8e2ef3c-af80-4597-8c72-f672f9ff4e00",
        "colab": {
          "base_uri": "https://localhost:8080/",
          "height": 419
        }
      },
      "source": [
        "df_4 =pd.read_csv(\"/content/drive/My Drive/Colab Notebooks/資料探勘作業/winequality-red.csv\")\n",
        "df_4"
      ],
      "execution_count": 6,
      "outputs": [
        {
          "output_type": "execute_result",
          "data": {
            "text/html": [
              "<div>\n",
              "<style scoped>\n",
              "    .dataframe tbody tr th:only-of-type {\n",
              "        vertical-align: middle;\n",
              "    }\n",
              "\n",
              "    .dataframe tbody tr th {\n",
              "        vertical-align: top;\n",
              "    }\n",
              "\n",
              "    .dataframe thead th {\n",
              "        text-align: right;\n",
              "    }\n",
              "</style>\n",
              "<table border=\"1\" class=\"dataframe\">\n",
              "  <thead>\n",
              "    <tr style=\"text-align: right;\">\n",
              "      <th></th>\n",
              "      <th>fixed acidity</th>\n",
              "      <th>volatile acidity</th>\n",
              "      <th>citric acid</th>\n",
              "      <th>residual sugar</th>\n",
              "      <th>chlorides</th>\n",
              "      <th>free sulfur dioxide</th>\n",
              "      <th>total sulfur dioxide</th>\n",
              "      <th>density</th>\n",
              "      <th>pH</th>\n",
              "      <th>sulphates</th>\n",
              "      <th>alcohol</th>\n",
              "      <th>quality</th>\n",
              "    </tr>\n",
              "  </thead>\n",
              "  <tbody>\n",
              "    <tr>\n",
              "      <th>0</th>\n",
              "      <td>7.4</td>\n",
              "      <td>0.700</td>\n",
              "      <td>0.00</td>\n",
              "      <td>1.9</td>\n",
              "      <td>0.076</td>\n",
              "      <td>11.0</td>\n",
              "      <td>34.0</td>\n",
              "      <td>0.99780</td>\n",
              "      <td>3.51</td>\n",
              "      <td>0.56</td>\n",
              "      <td>9.4</td>\n",
              "      <td>5</td>\n",
              "    </tr>\n",
              "    <tr>\n",
              "      <th>1</th>\n",
              "      <td>7.8</td>\n",
              "      <td>0.880</td>\n",
              "      <td>0.00</td>\n",
              "      <td>2.6</td>\n",
              "      <td>0.098</td>\n",
              "      <td>25.0</td>\n",
              "      <td>67.0</td>\n",
              "      <td>0.99680</td>\n",
              "      <td>3.20</td>\n",
              "      <td>0.68</td>\n",
              "      <td>9.8</td>\n",
              "      <td>5</td>\n",
              "    </tr>\n",
              "    <tr>\n",
              "      <th>2</th>\n",
              "      <td>7.8</td>\n",
              "      <td>0.760</td>\n",
              "      <td>0.04</td>\n",
              "      <td>2.3</td>\n",
              "      <td>0.092</td>\n",
              "      <td>15.0</td>\n",
              "      <td>54.0</td>\n",
              "      <td>0.99700</td>\n",
              "      <td>3.26</td>\n",
              "      <td>0.65</td>\n",
              "      <td>9.8</td>\n",
              "      <td>5</td>\n",
              "    </tr>\n",
              "    <tr>\n",
              "      <th>3</th>\n",
              "      <td>11.2</td>\n",
              "      <td>0.280</td>\n",
              "      <td>0.56</td>\n",
              "      <td>1.9</td>\n",
              "      <td>0.075</td>\n",
              "      <td>17.0</td>\n",
              "      <td>60.0</td>\n",
              "      <td>0.99800</td>\n",
              "      <td>3.16</td>\n",
              "      <td>0.58</td>\n",
              "      <td>9.8</td>\n",
              "      <td>6</td>\n",
              "    </tr>\n",
              "    <tr>\n",
              "      <th>4</th>\n",
              "      <td>7.4</td>\n",
              "      <td>0.700</td>\n",
              "      <td>0.00</td>\n",
              "      <td>1.9</td>\n",
              "      <td>0.076</td>\n",
              "      <td>11.0</td>\n",
              "      <td>34.0</td>\n",
              "      <td>0.99780</td>\n",
              "      <td>3.51</td>\n",
              "      <td>0.56</td>\n",
              "      <td>9.4</td>\n",
              "      <td>5</td>\n",
              "    </tr>\n",
              "    <tr>\n",
              "      <th>...</th>\n",
              "      <td>...</td>\n",
              "      <td>...</td>\n",
              "      <td>...</td>\n",
              "      <td>...</td>\n",
              "      <td>...</td>\n",
              "      <td>...</td>\n",
              "      <td>...</td>\n",
              "      <td>...</td>\n",
              "      <td>...</td>\n",
              "      <td>...</td>\n",
              "      <td>...</td>\n",
              "      <td>...</td>\n",
              "    </tr>\n",
              "    <tr>\n",
              "      <th>1594</th>\n",
              "      <td>6.2</td>\n",
              "      <td>0.600</td>\n",
              "      <td>0.08</td>\n",
              "      <td>2.0</td>\n",
              "      <td>0.090</td>\n",
              "      <td>32.0</td>\n",
              "      <td>44.0</td>\n",
              "      <td>0.99490</td>\n",
              "      <td>3.45</td>\n",
              "      <td>0.58</td>\n",
              "      <td>10.5</td>\n",
              "      <td>5</td>\n",
              "    </tr>\n",
              "    <tr>\n",
              "      <th>1595</th>\n",
              "      <td>5.9</td>\n",
              "      <td>0.550</td>\n",
              "      <td>0.10</td>\n",
              "      <td>2.2</td>\n",
              "      <td>0.062</td>\n",
              "      <td>39.0</td>\n",
              "      <td>51.0</td>\n",
              "      <td>0.99512</td>\n",
              "      <td>3.52</td>\n",
              "      <td>0.76</td>\n",
              "      <td>11.2</td>\n",
              "      <td>6</td>\n",
              "    </tr>\n",
              "    <tr>\n",
              "      <th>1596</th>\n",
              "      <td>6.3</td>\n",
              "      <td>0.510</td>\n",
              "      <td>0.13</td>\n",
              "      <td>2.3</td>\n",
              "      <td>0.076</td>\n",
              "      <td>29.0</td>\n",
              "      <td>40.0</td>\n",
              "      <td>0.99574</td>\n",
              "      <td>3.42</td>\n",
              "      <td>0.75</td>\n",
              "      <td>11.0</td>\n",
              "      <td>6</td>\n",
              "    </tr>\n",
              "    <tr>\n",
              "      <th>1597</th>\n",
              "      <td>5.9</td>\n",
              "      <td>0.645</td>\n",
              "      <td>0.12</td>\n",
              "      <td>2.0</td>\n",
              "      <td>0.075</td>\n",
              "      <td>32.0</td>\n",
              "      <td>44.0</td>\n",
              "      <td>0.99547</td>\n",
              "      <td>3.57</td>\n",
              "      <td>0.71</td>\n",
              "      <td>10.2</td>\n",
              "      <td>5</td>\n",
              "    </tr>\n",
              "    <tr>\n",
              "      <th>1598</th>\n",
              "      <td>6.0</td>\n",
              "      <td>0.310</td>\n",
              "      <td>0.47</td>\n",
              "      <td>3.6</td>\n",
              "      <td>0.067</td>\n",
              "      <td>18.0</td>\n",
              "      <td>42.0</td>\n",
              "      <td>0.99549</td>\n",
              "      <td>3.39</td>\n",
              "      <td>0.66</td>\n",
              "      <td>11.0</td>\n",
              "      <td>6</td>\n",
              "    </tr>\n",
              "  </tbody>\n",
              "</table>\n",
              "<p>1599 rows × 12 columns</p>\n",
              "</div>"
            ],
            "text/plain": [
              "      fixed acidity  volatile acidity  citric acid  ...  sulphates  alcohol  quality\n",
              "0               7.4             0.700         0.00  ...       0.56      9.4        5\n",
              "1               7.8             0.880         0.00  ...       0.68      9.8        5\n",
              "2               7.8             0.760         0.04  ...       0.65      9.8        5\n",
              "3              11.2             0.280         0.56  ...       0.58      9.8        6\n",
              "4               7.4             0.700         0.00  ...       0.56      9.4        5\n",
              "...             ...               ...          ...  ...        ...      ...      ...\n",
              "1594            6.2             0.600         0.08  ...       0.58     10.5        5\n",
              "1595            5.9             0.550         0.10  ...       0.76     11.2        6\n",
              "1596            6.3             0.510         0.13  ...       0.75     11.0        6\n",
              "1597            5.9             0.645         0.12  ...       0.71     10.2        5\n",
              "1598            6.0             0.310         0.47  ...       0.66     11.0        6\n",
              "\n",
              "[1599 rows x 12 columns]"
            ]
          },
          "metadata": {
            "tags": []
          },
          "execution_count": 6
        }
      ]
    },
    {
      "cell_type": "markdown",
      "metadata": {
        "id": "OQL4cjfIKdUS"
      },
      "source": [
        "### 連續資料的資料描述"
      ]
    },
    {
      "cell_type": "code",
      "metadata": {
        "id": "C5l4-9tuGnuh",
        "outputId": "955eb72a-43ac-49d6-d02d-95b86ce76514",
        "colab": {
          "base_uri": "https://localhost:8080/",
          "height": 297
        }
      },
      "source": [
        "df_4.describe()"
      ],
      "execution_count": 7,
      "outputs": [
        {
          "output_type": "execute_result",
          "data": {
            "text/html": [
              "<div>\n",
              "<style scoped>\n",
              "    .dataframe tbody tr th:only-of-type {\n",
              "        vertical-align: middle;\n",
              "    }\n",
              "\n",
              "    .dataframe tbody tr th {\n",
              "        vertical-align: top;\n",
              "    }\n",
              "\n",
              "    .dataframe thead th {\n",
              "        text-align: right;\n",
              "    }\n",
              "</style>\n",
              "<table border=\"1\" class=\"dataframe\">\n",
              "  <thead>\n",
              "    <tr style=\"text-align: right;\">\n",
              "      <th></th>\n",
              "      <th>fixed acidity</th>\n",
              "      <th>volatile acidity</th>\n",
              "      <th>citric acid</th>\n",
              "      <th>residual sugar</th>\n",
              "      <th>chlorides</th>\n",
              "      <th>free sulfur dioxide</th>\n",
              "      <th>total sulfur dioxide</th>\n",
              "      <th>density</th>\n",
              "      <th>pH</th>\n",
              "      <th>sulphates</th>\n",
              "      <th>alcohol</th>\n",
              "      <th>quality</th>\n",
              "    </tr>\n",
              "  </thead>\n",
              "  <tbody>\n",
              "    <tr>\n",
              "      <th>count</th>\n",
              "      <td>1599.000000</td>\n",
              "      <td>1599.000000</td>\n",
              "      <td>1599.000000</td>\n",
              "      <td>1599.000000</td>\n",
              "      <td>1599.000000</td>\n",
              "      <td>1599.000000</td>\n",
              "      <td>1599.000000</td>\n",
              "      <td>1599.000000</td>\n",
              "      <td>1599.000000</td>\n",
              "      <td>1599.000000</td>\n",
              "      <td>1599.000000</td>\n",
              "      <td>1599.000000</td>\n",
              "    </tr>\n",
              "    <tr>\n",
              "      <th>mean</th>\n",
              "      <td>8.319637</td>\n",
              "      <td>0.527821</td>\n",
              "      <td>0.270976</td>\n",
              "      <td>2.538806</td>\n",
              "      <td>0.087467</td>\n",
              "      <td>15.874922</td>\n",
              "      <td>46.467792</td>\n",
              "      <td>0.996747</td>\n",
              "      <td>3.311113</td>\n",
              "      <td>0.658149</td>\n",
              "      <td>10.422983</td>\n",
              "      <td>5.636023</td>\n",
              "    </tr>\n",
              "    <tr>\n",
              "      <th>std</th>\n",
              "      <td>1.741096</td>\n",
              "      <td>0.179060</td>\n",
              "      <td>0.194801</td>\n",
              "      <td>1.409928</td>\n",
              "      <td>0.047065</td>\n",
              "      <td>10.460157</td>\n",
              "      <td>32.895324</td>\n",
              "      <td>0.001887</td>\n",
              "      <td>0.154386</td>\n",
              "      <td>0.169507</td>\n",
              "      <td>1.065668</td>\n",
              "      <td>0.807569</td>\n",
              "    </tr>\n",
              "    <tr>\n",
              "      <th>min</th>\n",
              "      <td>4.600000</td>\n",
              "      <td>0.120000</td>\n",
              "      <td>0.000000</td>\n",
              "      <td>0.900000</td>\n",
              "      <td>0.012000</td>\n",
              "      <td>1.000000</td>\n",
              "      <td>6.000000</td>\n",
              "      <td>0.990070</td>\n",
              "      <td>2.740000</td>\n",
              "      <td>0.330000</td>\n",
              "      <td>8.400000</td>\n",
              "      <td>3.000000</td>\n",
              "    </tr>\n",
              "    <tr>\n",
              "      <th>25%</th>\n",
              "      <td>7.100000</td>\n",
              "      <td>0.390000</td>\n",
              "      <td>0.090000</td>\n",
              "      <td>1.900000</td>\n",
              "      <td>0.070000</td>\n",
              "      <td>7.000000</td>\n",
              "      <td>22.000000</td>\n",
              "      <td>0.995600</td>\n",
              "      <td>3.210000</td>\n",
              "      <td>0.550000</td>\n",
              "      <td>9.500000</td>\n",
              "      <td>5.000000</td>\n",
              "    </tr>\n",
              "    <tr>\n",
              "      <th>50%</th>\n",
              "      <td>7.900000</td>\n",
              "      <td>0.520000</td>\n",
              "      <td>0.260000</td>\n",
              "      <td>2.200000</td>\n",
              "      <td>0.079000</td>\n",
              "      <td>14.000000</td>\n",
              "      <td>38.000000</td>\n",
              "      <td>0.996750</td>\n",
              "      <td>3.310000</td>\n",
              "      <td>0.620000</td>\n",
              "      <td>10.200000</td>\n",
              "      <td>6.000000</td>\n",
              "    </tr>\n",
              "    <tr>\n",
              "      <th>75%</th>\n",
              "      <td>9.200000</td>\n",
              "      <td>0.640000</td>\n",
              "      <td>0.420000</td>\n",
              "      <td>2.600000</td>\n",
              "      <td>0.090000</td>\n",
              "      <td>21.000000</td>\n",
              "      <td>62.000000</td>\n",
              "      <td>0.997835</td>\n",
              "      <td>3.400000</td>\n",
              "      <td>0.730000</td>\n",
              "      <td>11.100000</td>\n",
              "      <td>6.000000</td>\n",
              "    </tr>\n",
              "    <tr>\n",
              "      <th>max</th>\n",
              "      <td>15.900000</td>\n",
              "      <td>1.580000</td>\n",
              "      <td>1.000000</td>\n",
              "      <td>15.500000</td>\n",
              "      <td>0.611000</td>\n",
              "      <td>72.000000</td>\n",
              "      <td>289.000000</td>\n",
              "      <td>1.003690</td>\n",
              "      <td>4.010000</td>\n",
              "      <td>2.000000</td>\n",
              "      <td>14.900000</td>\n",
              "      <td>8.000000</td>\n",
              "    </tr>\n",
              "  </tbody>\n",
              "</table>\n",
              "</div>"
            ],
            "text/plain": [
              "       fixed acidity  volatile acidity  ...      alcohol      quality\n",
              "count    1599.000000       1599.000000  ...  1599.000000  1599.000000\n",
              "mean        8.319637          0.527821  ...    10.422983     5.636023\n",
              "std         1.741096          0.179060  ...     1.065668     0.807569\n",
              "min         4.600000          0.120000  ...     8.400000     3.000000\n",
              "25%         7.100000          0.390000  ...     9.500000     5.000000\n",
              "50%         7.900000          0.520000  ...    10.200000     6.000000\n",
              "75%         9.200000          0.640000  ...    11.100000     6.000000\n",
              "max        15.900000          1.580000  ...    14.900000     8.000000\n",
              "\n",
              "[8 rows x 12 columns]"
            ]
          },
          "metadata": {
            "tags": []
          },
          "execution_count": 7
        }
      ]
    },
    {
      "cell_type": "markdown",
      "metadata": {
        "id": "GCKH-yWtMzWY"
      },
      "source": [
        "### 確認資料屬性"
      ]
    },
    {
      "cell_type": "code",
      "metadata": {
        "id": "xZ28NTA-Gnuj",
        "outputId": "35c1daa8-0a0b-4916-95c9-5a7e7023db0a",
        "colab": {
          "base_uri": "https://localhost:8080/",
          "height": 238
        }
      },
      "source": [
        "df_4.dtypes"
      ],
      "execution_count": 8,
      "outputs": [
        {
          "output_type": "execute_result",
          "data": {
            "text/plain": [
              "fixed acidity           float64\n",
              "volatile acidity        float64\n",
              "citric acid             float64\n",
              "residual sugar          float64\n",
              "chlorides               float64\n",
              "free sulfur dioxide     float64\n",
              "total sulfur dioxide    float64\n",
              "density                 float64\n",
              "pH                      float64\n",
              "sulphates               float64\n",
              "alcohol                 float64\n",
              "quality                   int64\n",
              "dtype: object"
            ]
          },
          "metadata": {
            "tags": []
          },
          "execution_count": 8
        }
      ]
    },
    {
      "cell_type": "markdown",
      "metadata": {
        "id": "POxcx7mfNIfL"
      },
      "source": [
        "### 確認資料欄位項目"
      ]
    },
    {
      "cell_type": "code",
      "metadata": {
        "id": "W7cip2UmGnum",
        "outputId": "b9d79f33-1527-4ef4-a0c4-5d49a0b96841",
        "colab": {
          "base_uri": "https://localhost:8080/",
          "height": 282
        }
      },
      "source": [
        "df_4['fixed acidity'].plot.hist()"
      ],
      "execution_count": 9,
      "outputs": [
        {
          "output_type": "execute_result",
          "data": {
            "text/plain": [
              "<matplotlib.axes._subplots.AxesSubplot at 0x7f2f0a93c0f0>"
            ]
          },
          "metadata": {
            "tags": []
          },
          "execution_count": 9
        },
        {
          "output_type": "display_data",
          "data": {
            "image/png": "[encoded data removed]",
            "text/plain": [
              "<Figure size 432x288 with 1 Axes>"
            ]
          },
          "metadata": {
            "tags": [],
            "needs_background": "light"
          }
        }
      ]
    },
    {
      "cell_type": "code",
      "metadata": {
        "id": "-74ARAM_XWty",
        "outputId": "e4654bc4-d988-497c-9e79-d6e95e289970",
        "colab": {
          "base_uri": "https://localhost:8080/",
          "height": 282
        }
      },
      "source": [
        "df_4['volatile acidity'].plot.hist()"
      ],
      "execution_count": 10,
      "outputs": [
        {
          "output_type": "execute_result",
          "data": {
            "text/plain": [
              "<matplotlib.axes._subplots.AxesSubplot at 0x7f2f0a43cbe0>"
            ]
          },
          "metadata": {
            "tags": []
          },
          "execution_count": 10
        },
        {
          "output_type": "display_data",
          "data": {
            "image/png": "[encoded data removed]",
            "text/plain": [
              "<Figure size 432x288 with 1 Axes>"
            ]
          },
          "metadata": {
            "tags": [],
            "needs_background": "light"
          }
        }
      ]
    },
    {
      "cell_type": "code",
      "metadata": {
        "id": "-tvFel7TXjbR",
        "outputId": "bf8accf4-e8ff-443b-9163-212b91e7b7ae",
        "colab": {
          "base_uri": "https://localhost:8080/",
          "height": 282
        }
      },
      "source": [
        "df_4['citric acid'].plot.hist()"
      ],
      "execution_count": 11,
      "outputs": [
        {
          "output_type": "execute_result",
          "data": {
            "text/plain": [
              "<matplotlib.axes._subplots.AxesSubplot at 0x7f2f0a3c54e0>"
            ]
          },
          "metadata": {
            "tags": []
          },
          "execution_count": 11
        },
        {
          "output_type": "display_data",
          "data": {
            "image/png": "[encoded data removed]",
            "text/plain": [
              "<Figure size 432x288 with 1 Axes>"
            ]
          },
          "metadata": {
            "tags": [],
            "needs_background": "light"
          }
        }
      ]
    },
    {
      "cell_type": "code",
      "metadata": {
        "id": "KY6ixRSUXtlh",
        "outputId": "1d5c0f86-0f87-42ba-c32b-1741e88fcfe3",
        "colab": {
          "base_uri": "https://localhost:8080/",
          "height": 282
        }
      },
      "source": [
        "df_4['residual sugar'].plot.hist()"
      ],
      "execution_count": 13,
      "outputs": [
        {
          "output_type": "execute_result",
          "data": {
            "text/plain": [
              "<matplotlib.axes._subplots.AxesSubplot at 0x7f2f0a33deb8>"
            ]
          },
          "metadata": {
            "tags": []
          },
          "execution_count": 13
        },
        {
          "output_type": "display_data",
          "data": {
            "image/png": "[encoded data removed]",
            "text/plain": [
              "<Figure size 432x288 with 1 Axes>"
            ]
          },
          "metadata": {
            "tags": [],
            "needs_background": "light"
          }
        }
      ]
    },
    {
      "cell_type": "code",
      "metadata": {
        "id": "s7PJ09vfXt6y",
        "outputId": "669abae8-fc10-4b1d-8e8f-5a84782067c3",
        "colab": {
          "base_uri": "https://localhost:8080/",
          "height": 282
        }
      },
      "source": [
        "df_4['chlorides'].plot.hist()"
      ],
      "execution_count": 14,
      "outputs": [
        {
          "output_type": "execute_result",
          "data": {
            "text/plain": [
              "<matplotlib.axes._subplots.AxesSubplot at 0x7f2f0a425eb8>"
            ]
          },
          "metadata": {
            "tags": []
          },
          "execution_count": 14
        },
        {
          "output_type": "display_data",
          "data": {
            "image/png": "[encoded data removed]",
            "text/plain": [
              "<Figure size 432x288 with 1 Axes>"
            ]
          },
          "metadata": {
            "tags": [],
            "needs_background": "light"
          }
        }
      ]
    },
    {
      "cell_type": "code",
      "metadata": {
        "id": "wk6ZhxGMXuGU",
        "outputId": "551312f3-d711-4495-a4a6-55a097907c9a",
        "colab": {
          "base_uri": "https://localhost:8080/",
          "height": 282
        }
      },
      "source": [
        "df_4['free sulfur dioxide'].plot.hist()"
      ],
      "execution_count": 15,
      "outputs": [
        {
          "output_type": "execute_result",
          "data": {
            "text/plain": [
              "<matplotlib.axes._subplots.AxesSubplot at 0x7f2f0a3411d0>"
            ]
          },
          "metadata": {
            "tags": []
          },
          "execution_count": 15
        },
        {
          "output_type": "display_data",
          "data": {
            "image/png": "[encoded data removed]",
            "text/plain": [
              "<Figure size 432x288 with 1 Axes>"
            ]
          },
          "metadata": {
            "tags": [],
            "needs_background": "light"
          }
        }
      ]
    },
    {
      "cell_type": "code",
      "metadata": {
        "id": "dZkX6CG1X_ud",
        "outputId": "144097da-363f-41aa-bdab-d5d334f1fe35",
        "colab": {
          "base_uri": "https://localhost:8080/",
          "height": 282
        }
      },
      "source": [
        "df_4['total sulfur dioxide'].plot.hist()"
      ],
      "execution_count": 16,
      "outputs": [
        {
          "output_type": "execute_result",
          "data": {
            "text/plain": [
              "<matplotlib.axes._subplots.AxesSubplot at 0x7f2f0a1dd828>"
            ]
          },
          "metadata": {
            "tags": []
          },
          "execution_count": 16
        },
        {
          "output_type": "display_data",
          "data": {
            "image/png": "[encoded data removed]",
            "text/plain": [
              "<Figure size 432x288 with 1 Axes>"
            ]
          },
          "metadata": {
            "tags": [],
            "needs_background": "light"
          }
        }
      ]
    },
    {
      "cell_type": "code",
      "metadata": {
        "id": "YQ3ia6fXX_2W",
        "outputId": "8c62ef8e-8fa4-4cd6-a03c-8e38f0c89b1b",
        "colab": {
          "base_uri": "https://localhost:8080/",
          "height": 282
        }
      },
      "source": [
        "df_4['density'].plot.hist()"
      ],
      "execution_count": 17,
      "outputs": [
        {
          "output_type": "execute_result",
          "data": {
            "text/plain": [
              "<matplotlib.axes._subplots.AxesSubplot at 0x7f2f0a128208>"
            ]
          },
          "metadata": {
            "tags": []
          },
          "execution_count": 17
        },
        {
          "output_type": "display_data",
          "data": {
            "image/png": "[encoded data removed]",
            "text/plain": [
              "<Figure size 432x288 with 1 Axes>"
            ]
          },
          "metadata": {
            "tags": [],
            "needs_background": "light"
          }
        }
      ]
    },
    {
      "cell_type": "code",
      "metadata": {
        "id": "pnvgHvlVX_6I",
        "outputId": "5e20d491-b6be-48da-ffdb-2e80cfde923b",
        "colab": {
          "base_uri": "https://localhost:8080/",
          "height": 282
        }
      },
      "source": [
        "df_4['pH'].plot.hist()"
      ],
      "execution_count": 18,
      "outputs": [
        {
          "output_type": "execute_result",
          "data": {
            "text/plain": [
              "<matplotlib.axes._subplots.AxesSubplot at 0x7f2f0a02f048>"
            ]
          },
          "metadata": {
            "tags": []
          },
          "execution_count": 18
        },
        {
          "output_type": "display_data",
          "data": {
            "image/png": "[encoded data removed]",
            "text/plain": [
              "<Figure size 432x288 with 1 Axes>"
            ]
          },
          "metadata": {
            "tags": [],
            "needs_background": "light"
          }
        }
      ]
    },
    {
      "cell_type": "code",
      "metadata": {
        "id": "2cUSwWZSX_9S",
        "outputId": "be635609-48cb-4080-e1aa-0a18a3c034e8",
        "colab": {
          "base_uri": "https://localhost:8080/",
          "height": 282
        }
      },
      "source": [
        "df_4['sulphates'].plot.hist()"
      ],
      "execution_count": 19,
      "outputs": [
        {
          "output_type": "execute_result",
          "data": {
            "text/plain": [
              "<matplotlib.axes._subplots.AxesSubplot at 0x7f2f0a01eb38>"
            ]
          },
          "metadata": {
            "tags": []
          },
          "execution_count": 19
        },
        {
          "output_type": "display_data",
          "data": {
            "image/png": "[encoded data removed]",
            "text/plain": [
              "<Figure size 432x288 with 1 Axes>"
            ]
          },
          "metadata": {
            "tags": [],
            "needs_background": "light"
          }
        }
      ]
    },
    {
      "cell_type": "code",
      "metadata": {
        "id": "3eNHuYSrYdBe",
        "outputId": "bfefca2b-19bb-458a-f558-c1e713447ba0",
        "colab": {
          "base_uri": "https://localhost:8080/",
          "height": 282
        }
      },
      "source": [
        "df_4['alcohol'].plot.hist()"
      ],
      "execution_count": 20,
      "outputs": [
        {
          "output_type": "execute_result",
          "data": {
            "text/plain": [
              "<matplotlib.axes._subplots.AxesSubplot at 0x7f2f0a102780>"
            ]
          },
          "metadata": {
            "tags": []
          },
          "execution_count": 20
        },
        {
          "output_type": "display_data",
          "data": {
            "image/png": "[encoded data removed]",
            "text/plain": [
              "<Figure size 432x288 with 1 Axes>"
            ]
          },
          "metadata": {
            "tags": [],
            "needs_background": "light"
          }
        }
      ]
    },
    {
      "cell_type": "code",
      "metadata": {
        "id": "NA7HQpnGYdM2",
        "outputId": "6184ad3a-2bf5-49d3-cf51-44ea1d889cd7",
        "colab": {
          "base_uri": "https://localhost:8080/",
          "height": 282
        }
      },
      "source": [
        "df_4['quality'].plot.hist()"
      ],
      "execution_count": 21,
      "outputs": [
        {
          "output_type": "execute_result",
          "data": {
            "text/plain": [
              "<matplotlib.axes._subplots.AxesSubplot at 0x7f2f09f191d0>"
            ]
          },
          "metadata": {
            "tags": []
          },
          "execution_count": 21
        },
        {
          "output_type": "display_data",
          "data": {
            "image/png": "[encoded data removed]",
            "text/plain": [
              "<Figure size 432x288 with 1 Axes>"
            ]
          },
          "metadata": {
            "tags": [],
            "needs_background": "light"
          }
        }
      ]
    },
    {
      "cell_type": "code",
      "metadata": {
        "id": "z831T29UbU7X",
        "outputId": "3367c6d2-1713-4edb-b7b6-44447a9d53ef",
        "colab": {
          "base_uri": "https://localhost:8080/",
          "height": 136
        }
      },
      "source": [
        "#quality\n",
        "df_4['quality'].value_counts()"
      ],
      "execution_count": 35,
      "outputs": [
        {
          "output_type": "execute_result",
          "data": {
            "text/plain": [
              "5    681\n",
              "6    638\n",
              "7    199\n",
              "4     53\n",
              "8     18\n",
              "3     10\n",
              "Name: quality, dtype: int64"
            ]
          },
          "metadata": {
            "tags": []
          },
          "execution_count": 35
        }
      ]
    },
    {
      "cell_type": "markdown",
      "metadata": {
        "id": "PnxIYrP-Gnu-"
      },
      "source": [
        "## Decision tree(第一次)\n",
        "* 資料採用8:2 分割資料集\n",
        "* 不刪除欄位"
      ]
    },
    {
      "cell_type": "code",
      "metadata": {
        "id": "nF_d-iQa3GVG"
      },
      "source": [
        "import pandas as pd\n"
      ],
      "execution_count": 22,
      "outputs": []
    },
    {
      "cell_type": "code",
      "metadata": {
        "id": "Pg1CUS_QGsHR"
      },
      "source": [
        "df_6 = pd.read_csv(\"/content/drive/My Drive/Colab Notebooks/資料探勘作業/winequality-red.csv\")"
      ],
      "execution_count": 23,
      "outputs": []
    },
    {
      "cell_type": "code",
      "metadata": {
        "id": "y5GG1llaGnu-"
      },
      "source": [
        "from sklearn.tree import DecisionTreeClassifier\n",
        "from sklearn.model_selection import train_test_split\n",
        "from sklearn.metrics import classification_report, confusion_matrix\n",
        "from sklearn import tree\n",
        "import pydot"
      ],
      "execution_count": 24,
      "outputs": []
    },
    {
      "cell_type": "code",
      "metadata": {
        "id": "lR4lrKD3GnvA",
        "outputId": "782fea0f-9662-4dc5-f04e-0b8e2607a450",
        "colab": {
          "base_uri": "https://localhost:8080/",
          "height": 71
        }
      },
      "source": [
        "from sklearn.externals.six import StringIO"
      ],
      "execution_count": 25,
      "outputs": [
        {
          "output_type": "stream",
          "text": [
            "/usr/local/lib/python3.6/dist-packages/sklearn/externals/six.py:31: FutureWarning: The module is deprecated in version 0.21 and will be removed in version 0.23 since we've dropped support for Python 2.7. Please rely on the official version of six (https://pypi.org/project/six/).\n",
            "  \"(https://pypi.org/project/six/).\", FutureWarning)\n"
          ],
          "name": "stderr"
        }
      ]
    },
    {
      "cell_type": "code",
      "metadata": {
        "id": "TyDCsgdSGnvB"
      },
      "source": [
        "X = df_6.drop('quality', axis=1)\n",
        "y = df_6['quality']"
      ],
      "execution_count": 28,
      "outputs": []
    },
    {
      "cell_type": "code",
      "metadata": {
        "id": "-XwSH3PxGnvD"
      },
      "source": [
        "X_train, X_test, y_train, y_test = train_test_split(X, y, test_size=0.20)"
      ],
      "execution_count": 29,
      "outputs": []
    },
    {
      "cell_type": "code",
      "metadata": {
        "id": "joSYJLSsGnvF",
        "outputId": "1f760983-c5ef-442b-d06c-f68e0e948907",
        "colab": {
          "base_uri": "https://localhost:8080/",
          "height": 119
        }
      },
      "source": [
        "classifier = DecisionTreeClassifier()\n",
        "classifier.fit(X_train, y_train)"
      ],
      "execution_count": 30,
      "outputs": [
        {
          "output_type": "execute_result",
          "data": {
            "text/plain": [
              "DecisionTreeClassifier(ccp_alpha=0.0, class_weight=None, criterion='gini',\n",
              "                       max_depth=None, max_features=None, max_leaf_nodes=None,\n",
              "                       min_impurity_decrease=0.0, min_impurity_split=None,\n",
              "                       min_samples_leaf=1, min_samples_split=2,\n",
              "                       min_weight_fraction_leaf=0.0, presort='deprecated',\n",
              "                       random_state=None, splitter='best')"
            ]
          },
          "metadata": {
            "tags": []
          },
          "execution_count": 30
        }
      ]
    },
    {
      "cell_type": "code",
      "metadata": {
        "id": "RM1vakAfGnvG"
      },
      "source": [
        "y_pred = classifier.predict(X_test)"
      ],
      "execution_count": 31,
      "outputs": []
    },
    {
      "cell_type": "markdown",
      "metadata": {
        "id": "n3DGAKAgOm15"
      },
      "source": [
        "### Decision tree(第一次)正確率結果"
      ]
    },
    {
      "cell_type": "code",
      "metadata": {
        "id": "GUmMfh_lGnvI",
        "outputId": "98801136-a3f5-4829-b8eb-b719e291c87c",
        "colab": {
          "base_uri": "https://localhost:8080/",
          "height": 340
        }
      },
      "source": [
        "print(confusion_matrix(y_test, y_pred))\n",
        "print(classification_report(y_test, y_pred))"
      ],
      "execution_count": 32,
      "outputs": [
        {
          "output_type": "stream",
          "text": [
            "[[ 0  1  1  0  0  0]\n",
            " [ 0  0  6  1  1  0]\n",
            " [ 1  8 98 38  3  0]\n",
            " [ 0  3 21 78  9  0]\n",
            " [ 0  0  7 12 25  1]\n",
            " [ 0  0  0  4  1  1]]\n",
            "              precision    recall  f1-score   support\n",
            "\n",
            "           3       0.00      0.00      0.00         2\n",
            "           4       0.00      0.00      0.00         8\n",
            "           5       0.74      0.66      0.70       148\n",
            "           6       0.59      0.70      0.64       111\n",
            "           7       0.64      0.56      0.60        45\n",
            "           8       0.50      0.17      0.25         6\n",
            "\n",
            "    accuracy                           0.63       320\n",
            "   macro avg       0.41      0.35      0.36       320\n",
            "weighted avg       0.64      0.63      0.63       320\n",
            "\n"
          ],
          "name": "stdout"
        }
      ]
    },
    {
      "cell_type": "code",
      "metadata": {
        "id": "10u5UWBGGnvK"
      },
      "source": [
        "dot_data = StringIO()"
      ],
      "execution_count": 33,
      "outputs": []
    },
    {
      "cell_type": "code",
      "metadata": {
        "id": "NdbHZOYyGnvM"
      },
      "source": [
        "tree.export_graphviz(classifier,\n",
        "        out_file=dot_data,\n",
        "        feature_names=['fixed acidity', 'volatile acidity', 'citric acid', 'residual sugar',\n",
        "       'chlorides', 'free sulfur dioxide', 'total sulfur dioxide', 'density ', 'pH ',\n",
        "       'sulphates ', 'alcohol '],\n",
        "        class_names=['5',\"6\",\"7\",\"4\",\"8\",\"3\"],\n",
        "        filled=True, rounded=True,\n",
        "        impurity=False)"
      ],
      "execution_count": 36,
      "outputs": []
    },
    {
      "cell_type": "code",
      "metadata": {
        "id": "-loHeYLDI_9d"
      },
      "source": [
        "graph = pydot.graph_from_dot_data(dot_data.getvalue())"
      ],
      "execution_count": 38,
      "outputs": []
    },
    {
      "cell_type": "markdown",
      "metadata": {
        "id": "9J3T-0kzPLdS"
      },
      "source": [
        "### 畫出決策樹"
      ]
    },
    {
      "cell_type": "code",
      "metadata": {
        "id": "uMTaiefSJa3o"
      },
      "source": [
        "graph[0].write_pdf(\"/content/drive/My Drive/Colab Notebooks/資料探勘作業/redWine01.pdf\")"
      ],
      "execution_count": 41,
      "outputs": []
    },
    {
      "cell_type": "code",
      "metadata": {
        "id": "Y1dK9zl7GnvN",
        "outputId": "0d708f3b-74d2-45b0-e734-422559ff31dc",
        "colab": {
          "base_uri": "https://localhost:8080/",
          "height": 1000
        }
      },
      "source": [
        "tree.plot_tree(classifier)"
      ],
      "execution_count": 40,
      "outputs": [
        {
          "output_type": "execute_result",
          "data": {
            "text/plain": [
              "[Text(165.00326734639833, 211.7178947368421, 'X[10] <= 10.25\\ngini = 0.641\\nsamples = 1279\\nvalue = [8, 45, 533, 527, 154, 12]'),\n",
              " Text(78.7161059081279, 200.2736842105263, 'X[9] <= 0.575\\ngini = 0.525\\nsamples = 680\\nvalue = [6, 23, 414, 217, 20, 0]'),\n",
              " Text(16.395011556240373, 188.82947368421054, 'X[10] <= 9.533\\ngini = 0.42\\nsamples = 284\\nvalue = [4, 16, 209, 53, 2, 0]'),\n",
              " Text(7.480123266563945, 177.38526315789474, 'X[10] <= 9.075\\ngini = 0.303\\nsamples = 148\\nvalue = [1, 5, 122, 19, 1, 0]'),\n",
              " Text(3.8690292758089373, 165.94105263157894, 'X[6] <= 32.0\\ngini = 0.691\\nsamples = 9\\nvalue = [1, 2, 2, 4, 0, 0]'),\n",
              " Text(2.8372881355932207, 154.49684210526317, 'gini = 0.0\\nsamples = 2\\nvalue = [0, 2, 0, 0, 0, 0]'),\n",
              " Text(4.900770416024654, 154.49684210526317, 'X[3] <= 2.05\\ngini = 0.571\\nsamples = 7\\nvalue = [1, 0, 2, 4, 0, 0]'),\n",
              " Text(3.8690292758089373, 143.05263157894737, 'gini = 0.0\\nsamples = 2\\nvalue = [0, 0, 2, 0, 0, 0]'),\n",
              " Text(5.932511556240371, 143.05263157894737, 'X[2] <= 0.59\\ngini = 0.32\\nsamples = 5\\nvalue = [1, 0, 0, 4, 0, 0]'),\n",
              " Text(4.900770416024654, 131.60842105263157, 'gini = 0.0\\nsamples = 4\\nvalue = [0, 0, 0, 4, 0, 0]'),\n",
              " Text(6.964252696456088, 131.60842105263157, 'gini = 0.0\\nsamples = 1\\nvalue = [1, 0, 0, 0, 0, 0]'),\n",
              " Text(11.091217257318954, 165.94105263157894, 'X[1] <= 0.305\\ngini = 0.243\\nsamples = 139\\nvalue = [0, 3, 120, 15, 1, 0]'),\n",
              " Text(9.02773497688752, 154.49684210526317, 'X[0] <= 8.8\\ngini = 0.5\\nsamples = 2\\nvalue = [0, 1, 0, 1, 0, 0]'),\n",
              " Text(7.995993836671804, 143.05263157894737, 'gini = 0.0\\nsamples = 1\\nvalue = [0, 0, 0, 1, 0, 0]'),\n",
              " Text(10.059476117103237, 143.05263157894737, 'gini = 0.0\\nsamples = 1\\nvalue = [0, 1, 0, 0, 0, 0]'),\n",
              " Text(13.154699537750387, 154.49684210526317, 'X[9] <= 0.36\\ngini = 0.222\\nsamples = 137\\nvalue = [0, 2, 120, 14, 1, 0]'),\n",
              " Text(12.12295839753467, 143.05263157894737, 'gini = 0.0\\nsamples = 1\\nvalue = [0, 1, 0, 0, 0, 0]'),\n",
              " Text(14.186440677966104, 143.05263157894737, 'X[8] <= 3.56\\ngini = 0.211\\nsamples = 136\\nvalue = [0, 1, 120, 14, 1, 0]'),\n",
              " Text(13.154699537750387, 131.60842105263157, 'X[3] <= 9.3\\ngini = 0.2\\nsamples = 135\\nvalue = [0, 1, 120, 13, 1, 0]'),\n",
              " Text(12.12295839753467, 120.16421052631578, 'X[9] <= 0.535\\ngini = 0.19\\nsamples = 134\\nvalue = [0, 1, 120, 12, 1, 0]'),\n",
              " Text(4.642835130970725, 108.72, 'X[4] <= 0.054\\ngini = 0.097\\nsamples = 79\\nvalue = [0, 1, 75, 3, 0, 0]'),\n",
              " Text(2.0634822804314332, 97.27578947368421, 'X[9] <= 0.475\\ngini = 0.5\\nsamples = 2\\nvalue = [0, 0, 1, 1, 0, 0]'),\n",
              " Text(1.0317411402157166, 85.83157894736843, 'gini = 0.0\\nsamples = 1\\nvalue = [0, 0, 1, 0, 0, 0]'),\n",
              " Text(3.09522342064715, 85.83157894736843, 'gini = 0.0\\nsamples = 1\\nvalue = [0, 0, 0, 1, 0, 0]'),\n",
              " Text(7.222187981510016, 97.27578947368421, 'X[0] <= 6.55\\ngini = 0.076\\nsamples = 77\\nvalue = [0, 1, 74, 2, 0, 0]'),\n",
              " Text(5.158705701078583, 85.83157894736843, 'X[5] <= 28.5\\ngini = 0.278\\nsamples = 6\\nvalue = [0, 0, 5, 1, 0, 0]'),\n",
              " Text(4.1269645608628664, 74.38736842105263, 'gini = 0.0\\nsamples = 5\\nvalue = [0, 0, 5, 0, 0, 0]'),\n",
              " Text(6.1904468412943, 74.38736842105263, 'gini = 0.0\\nsamples = 1\\nvalue = [0, 0, 0, 1, 0, 0]'),\n",
              " Text(9.28567026194145, 85.83157894736843, 'X[5] <= 11.5\\ngini = 0.055\\nsamples = 71\\nvalue = [0, 1, 69, 1, 0, 0]'),\n",
              " Text(8.253929121725733, 74.38736842105263, 'X[8] <= 3.365\\ngini = 0.156\\nsamples = 24\\nvalue = [0, 1, 22, 1, 0, 0]'),\n",
              " Text(6.1904468412943, 62.943157894736856, 'X[9] <= 0.525\\ngini = 0.091\\nsamples = 21\\nvalue = [0, 1, 20, 0, 0, 0]'),\n",
              " Text(5.158705701078583, 51.49894736842106, 'gini = 0.0\\nsamples = 19\\nvalue = [0, 0, 19, 0, 0, 0]'),\n",
              " Text(7.222187981510016, 51.49894736842106, 'X[3] <= 2.2\\ngini = 0.5\\nsamples = 2\\nvalue = [0, 1, 1, 0, 0, 0]'),\n",
              " Text(6.1904468412943, 40.05473684210526, 'gini = 0.0\\nsamples = 1\\nvalue = [0, 1, 0, 0, 0, 0]'),\n",
              " Text(8.253929121725733, 40.05473684210526, 'gini = 0.0\\nsamples = 1\\nvalue = [0, 0, 1, 0, 0, 0]'),\n",
              " Text(10.317411402157166, 62.943157894736856, 'X[8] <= 3.405\\ngini = 0.444\\nsamples = 3\\nvalue = [0, 0, 2, 1, 0, 0]'),\n",
              " Text(9.28567026194145, 51.49894736842106, 'gini = 0.0\\nsamples = 1\\nvalue = [0, 0, 0, 1, 0, 0]'),\n",
              " Text(11.349152542372883, 51.49894736842106, 'gini = 0.0\\nsamples = 2\\nvalue = [0, 0, 2, 0, 0, 0]'),\n",
              " Text(10.317411402157166, 74.38736842105263, 'gini = 0.0\\nsamples = 47\\nvalue = [0, 0, 47, 0, 0, 0]'),\n",
              " Text(19.603081664098617, 108.72, 'X[9] <= 0.545\\ngini = 0.303\\nsamples = 55\\nvalue = [0, 0, 45, 9, 1, 0]'),\n",
              " Text(15.47611710323575, 97.27578947368421, 'X[4] <= 0.076\\ngini = 0.469\\nsamples = 16\\nvalue = [0, 0, 10, 6, 0, 0]'),\n",
              " Text(13.412634822804316, 85.83157894736843, 'X[3] <= 5.5\\ngini = 0.278\\nsamples = 6\\nvalue = [0, 0, 1, 5, 0, 0]'),\n",
              " Text(12.3808936825886, 74.38736842105263, 'gini = 0.0\\nsamples = 5\\nvalue = [0, 0, 0, 5, 0, 0]'),\n",
              " Text(14.444375963020033, 74.38736842105263, 'gini = 0.0\\nsamples = 1\\nvalue = [0, 0, 1, 0, 0, 0]'),\n",
              " Text(17.53959938366718, 85.83157894736843, 'X[0] <= 9.0\\ngini = 0.18\\nsamples = 10\\nvalue = [0, 0, 9, 1, 0, 0]'),\n",
              " Text(16.507858243451466, 74.38736842105263, 'gini = 0.0\\nsamples = 8\\nvalue = [0, 0, 8, 0, 0, 0]'),\n",
              " Text(18.5713405238829, 74.38736842105263, 'X[3] <= 2.85\\ngini = 0.5\\nsamples = 2\\nvalue = [0, 0, 1, 1, 0, 0]'),\n",
              " Text(17.53959938366718, 62.943157894736856, 'gini = 0.0\\nsamples = 1\\nvalue = [0, 0, 1, 0, 0, 0]'),\n",
              " Text(19.603081664098617, 62.943157894736856, 'gini = 0.0\\nsamples = 1\\nvalue = [0, 0, 0, 1, 0, 0]'),\n",
              " Text(23.730046224961484, 97.27578947368421, 'X[8] <= 3.3\\ngini = 0.188\\nsamples = 39\\nvalue = [0, 0, 35, 3, 1, 0]'),\n",
              " Text(22.698305084745765, 85.83157894736843, 'gini = 0.0\\nsamples = 21\\nvalue = [0, 0, 21, 0, 0, 0]'),\n",
              " Text(24.7617873651772, 85.83157894736843, 'X[4] <= 0.088\\ngini = 0.364\\nsamples = 18\\nvalue = [0, 0, 14, 3, 1, 0]'),\n",
              " Text(22.698305084745765, 74.38736842105263, 'X[10] <= 9.45\\ngini = 0.24\\nsamples = 15\\nvalue = [0, 0, 13, 1, 1, 0]'),\n",
              " Text(21.666563944530047, 62.943157894736856, 'gini = 0.0\\nsamples = 11\\nvalue = [0, 0, 11, 0, 0, 0]'),\n",
              " Text(23.730046224961484, 62.943157894736856, 'X[8] <= 3.5\\ngini = 0.625\\nsamples = 4\\nvalue = [0, 0, 2, 1, 1, 0]'),\n",
              " Text(22.698305084745765, 51.49894736842106, 'X[8] <= 3.415\\ngini = 0.5\\nsamples = 2\\nvalue = [0, 0, 0, 1, 1, 0]'),\n",
              " Text(21.666563944530047, 40.05473684210526, 'gini = 0.0\\nsamples = 1\\nvalue = [0, 0, 0, 0, 1, 0]'),\n",
              " Text(23.730046224961484, 40.05473684210526, 'gini = 0.0\\nsamples = 1\\nvalue = [0, 0, 0, 1, 0, 0]'),\n",
              " Text(24.7617873651772, 51.49894736842106, 'gini = 0.0\\nsamples = 2\\nvalue = [0, 0, 2, 0, 0, 0]'),\n",
              " Text(26.825269645608632, 74.38736842105263, 'X[7] <= 0.996\\ngini = 0.444\\nsamples = 3\\nvalue = [0, 0, 1, 2, 0, 0]'),\n",
              " Text(25.793528505392914, 62.943157894736856, 'gini = 0.0\\nsamples = 1\\nvalue = [0, 0, 1, 0, 0, 0]'),\n",
              " Text(27.85701078582435, 62.943157894736856, 'gini = 0.0\\nsamples = 2\\nvalue = [0, 0, 0, 2, 0, 0]'),\n",
              " Text(14.186440677966104, 120.16421052631578, 'gini = 0.0\\nsamples = 1\\nvalue = [0, 0, 0, 1, 0, 0]'),\n",
              " Text(15.21818181818182, 131.60842105263157, 'gini = 0.0\\nsamples = 1\\nvalue = [0, 0, 0, 1, 0, 0]'),\n",
              " Text(25.3098998459168, 177.38526315789474, 'X[1] <= 0.455\\ngini = 0.521\\nsamples = 136\\nvalue = [3, 11, 87, 34, 1, 0]'),\n",
              " Text(19.603081664098617, 165.94105263157894, 'X[2] <= 0.245\\ngini = 0.508\\nsamples = 16\\nvalue = [0, 1, 5, 10, 0, 0]'),\n",
              " Text(17.53959938366718, 154.49684210526317, 'X[8] <= 3.415\\ngini = 0.198\\nsamples = 9\\nvalue = [0, 1, 0, 8, 0, 0]'),\n",
              " Text(16.507858243451466, 143.05263157894737, 'gini = 0.0\\nsamples = 8\\nvalue = [0, 0, 0, 8, 0, 0]'),\n",
              " Text(18.5713405238829, 143.05263157894737, 'gini = 0.0\\nsamples = 1\\nvalue = [0, 1, 0, 0, 0, 0]'),\n",
              " Text(21.666563944530047, 154.49684210526317, 'X[4] <= 0.076\\ngini = 0.408\\nsamples = 7\\nvalue = [0, 0, 5, 2, 0, 0]'),\n",
              " Text(20.634822804314332, 143.05263157894737, 'X[3] <= 2.75\\ngini = 0.444\\nsamples = 3\\nvalue = [0, 0, 1, 2, 0, 0]'),\n",
              " Text(19.603081664098617, 131.60842105263157, 'gini = 0.0\\nsamples = 2\\nvalue = [0, 0, 0, 2, 0, 0]'),\n",
              " Text(21.666563944530047, 131.60842105263157, 'gini = 0.0\\nsamples = 1\\nvalue = [0, 0, 1, 0, 0, 0]'),\n",
              " Text(22.698305084745765, 143.05263157894737, 'gini = 0.0\\nsamples = 4\\nvalue = [0, 0, 4, 0, 0, 0]'),\n",
              " Text(31.01671802773498, 165.94105263157894, 'X[7] <= 0.996\\ngini = 0.485\\nsamples = 120\\nvalue = [3, 10, 82, 24, 1, 0]'),\n",
              " Text(25.793528505392914, 154.49684210526317, 'X[6] <= 10.0\\ngini = 0.289\\nsamples = 43\\nvalue = [1, 1, 36, 4, 1, 0]'),\n",
              " Text(24.7617873651772, 143.05263157894737, 'gini = 0.0\\nsamples = 2\\nvalue = [0, 0, 0, 2, 0, 0]'),\n",
              " Text(26.825269645608632, 143.05263157894737, 'X[3] <= 1.25\\ngini = 0.225\\nsamples = 41\\nvalue = [1, 1, 36, 2, 1, 0]'),\n",
              " Text(24.7617873651772, 131.60842105263157, 'X[1] <= 0.732\\ngini = 0.5\\nsamples = 2\\nvalue = [1, 0, 0, 0, 1, 0]'),\n",
              " Text(23.730046224961484, 120.16421052631578, 'gini = 0.0\\nsamples = 1\\nvalue = [0, 0, 0, 0, 1, 0]'),\n",
              " Text(25.793528505392914, 120.16421052631578, 'gini = 0.0\\nsamples = 1\\nvalue = [1, 0, 0, 0, 0, 0]'),\n",
              " Text(28.888751926040065, 131.60842105263157, 'X[7] <= 0.994\\ngini = 0.145\\nsamples = 39\\nvalue = [0, 1, 36, 2, 0, 0]'),\n",
              " Text(27.85701078582435, 120.16421052631578, 'gini = 0.0\\nsamples = 1\\nvalue = [0, 1, 0, 0, 0, 0]'),\n",
              " Text(29.92049306625578, 120.16421052631578, 'X[2] <= 0.28\\ngini = 0.1\\nsamples = 38\\nvalue = [0, 0, 36, 2, 0, 0]'),\n",
              " Text(28.888751926040065, 108.72, 'X[8] <= 3.09\\ngini = 0.053\\nsamples = 37\\nvalue = [0, 0, 36, 1, 0, 0]'),\n",
              " Text(27.85701078582435, 97.27578947368421, 'X[9] <= 0.48\\ngini = 0.5\\nsamples = 2\\nvalue = [0, 0, 1, 1, 0, 0]'),\n",
              " Text(26.825269645608632, 85.83157894736843, 'gini = 0.0\\nsamples = 1\\nvalue = [0, 0, 1, 0, 0, 0]'),\n",
              " Text(28.888751926040065, 85.83157894736843, 'gini = 0.0\\nsamples = 1\\nvalue = [0, 0, 0, 1, 0, 0]'),\n",
              " Text(29.92049306625578, 97.27578947368421, 'gini = 0.0\\nsamples = 35\\nvalue = [0, 0, 35, 0, 0, 0]'),\n",
              " Text(30.9522342064715, 108.72, 'gini = 0.0\\nsamples = 1\\nvalue = [0, 0, 0, 1, 0, 0]'),\n",
              " Text(36.23990755007705, 154.49684210526317, 'X[3] <= 1.95\\ngini = 0.561\\nsamples = 77\\nvalue = [2, 9, 46, 20, 0, 0]'),\n",
              " Text(31.983975346687217, 143.05263157894737, 'X[1] <= 0.71\\ngini = 0.568\\nsamples = 9\\nvalue = [0, 3, 1, 5, 0, 0]'),\n",
              " Text(30.9522342064715, 131.60842105263157, 'gini = 0.0\\nsamples = 5\\nvalue = [0, 0, 0, 5, 0, 0]'),\n",
              " Text(33.01571648690293, 131.60842105263157, 'X[6] <= 25.5\\ngini = 0.375\\nsamples = 4\\nvalue = [0, 3, 1, 0, 0, 0]'),\n",
              " Text(31.983975346687217, 120.16421052631578, 'gini = 0.0\\nsamples = 3\\nvalue = [0, 3, 0, 0, 0, 0]'),\n",
              " Text(34.047457627118646, 120.16421052631578, 'gini = 0.0\\nsamples = 1\\nvalue = [0, 0, 1, 0, 0, 0]'),\n",
              " Text(40.495839753466875, 143.05263157894737, 'X[2] <= 0.175\\ngini = 0.505\\nsamples = 68\\nvalue = [2, 6, 45, 15, 0, 0]'),\n",
              " Text(37.1426810477658, 131.60842105263157, 'X[8] <= 3.54\\ngini = 0.337\\nsamples = 31\\nvalue = [2, 2, 25, 2, 0, 0]'),\n",
              " Text(36.11093990755008, 120.16421052631578, 'X[5] <= 4.0\\ngini = 0.247\\nsamples = 29\\nvalue = [2, 2, 25, 0, 0, 0]'),\n",
              " Text(35.07919876733436, 108.72, 'gini = 0.0\\nsamples = 1\\nvalue = [1, 0, 0, 0, 0, 0]'),\n",
              " Text(37.1426810477658, 108.72, 'X[4] <= 0.064\\ngini = 0.196\\nsamples = 28\\nvalue = [1, 2, 25, 0, 0, 0]'),\n",
              " Text(36.11093990755008, 97.27578947368421, 'gini = 0.0\\nsamples = 1\\nvalue = [1, 0, 0, 0, 0, 0]'),\n",
              " Text(38.17442218798151, 97.27578947368421, 'X[9] <= 0.465\\ngini = 0.137\\nsamples = 27\\nvalue = [0, 2, 25, 0, 0, 0]'),\n",
              " Text(37.1426810477658, 85.83157894736843, 'X[1] <= 0.645\\ngini = 0.48\\nsamples = 5\\nvalue = [0, 2, 3, 0, 0, 0]'),\n",
              " Text(36.11093990755008, 74.38736842105263, 'gini = 0.0\\nsamples = 3\\nvalue = [0, 0, 3, 0, 0, 0]'),\n",
              " Text(38.17442218798151, 74.38736842105263, 'gini = 0.0\\nsamples = 2\\nvalue = [0, 2, 0, 0, 0, 0]'),\n",
              " Text(39.206163328197235, 85.83157894736843, 'gini = 0.0\\nsamples = 22\\nvalue = [0, 0, 22, 0, 0, 0]'),\n",
              " Text(38.17442218798151, 120.16421052631578, 'gini = 0.0\\nsamples = 2\\nvalue = [0, 0, 0, 2, 0, 0]'),\n",
              " Text(43.84899845916796, 131.60842105263157, 'X[2] <= 0.245\\ngini = 0.573\\nsamples = 37\\nvalue = [0, 4, 20, 13, 0, 0]'),\n",
              " Text(40.23790446841295, 120.16421052631578, 'X[7] <= 0.997\\ngini = 0.508\\nsamples = 16\\nvalue = [0, 1, 5, 10, 0, 0]'),\n",
              " Text(39.206163328197235, 108.72, 'gini = 0.0\\nsamples = 3\\nvalue = [0, 0, 3, 0, 0, 0]'),\n",
              " Text(41.269645608628664, 108.72, 'X[0] <= 9.0\\ngini = 0.379\\nsamples = 13\\nvalue = [0, 1, 2, 10, 0, 0]'),\n",
              " Text(40.23790446841295, 97.27578947368421, 'gini = 0.0\\nsamples = 8\\nvalue = [0, 0, 0, 8, 0, 0]'),\n",
              " Text(42.30138674884438, 97.27578947368421, 'X[10] <= 9.9\\ngini = 0.64\\nsamples = 5\\nvalue = [0, 1, 2, 2, 0, 0]'),\n",
              " Text(41.269645608628664, 85.83157894736843, 'gini = 0.0\\nsamples = 2\\nvalue = [0, 0, 2, 0, 0, 0]'),\n",
              " Text(43.333127889060094, 85.83157894736843, 'X[6] <= 23.0\\ngini = 0.444\\nsamples = 3\\nvalue = [0, 1, 0, 2, 0, 0]'),\n",
              " Text(42.30138674884438, 74.38736842105263, 'gini = 0.0\\nsamples = 1\\nvalue = [0, 1, 0, 0, 0, 0]'),\n",
              " Text(44.364869029275816, 74.38736842105263, 'gini = 0.0\\nsamples = 2\\nvalue = [0, 0, 0, 2, 0, 0]'),\n",
              " Text(47.46009244992297, 120.16421052631578, 'X[0] <= 7.6\\ngini = 0.449\\nsamples = 21\\nvalue = [0, 3, 15, 3, 0, 0]'),\n",
              " Text(46.428351309707246, 108.72, 'gini = 0.0\\nsamples = 2\\nvalue = [0, 0, 0, 2, 0, 0]'),\n",
              " Text(48.49183359013868, 108.72, 'X[1] <= 0.785\\ngini = 0.349\\nsamples = 19\\nvalue = [0, 3, 15, 1, 0, 0]'),\n",
              " Text(46.428351309707246, 97.27578947368421, 'X[0] <= 10.2\\ngini = 0.124\\nsamples = 15\\nvalue = [0, 1, 14, 0, 0, 0]'),\n",
              " Text(45.39661016949153, 85.83157894736843, 'gini = 0.0\\nsamples = 12\\nvalue = [0, 0, 12, 0, 0, 0]'),\n",
              " Text(47.46009244992297, 85.83157894736843, 'X[0] <= 11.4\\ngini = 0.444\\nsamples = 3\\nvalue = [0, 1, 2, 0, 0, 0]'),\n",
              " Text(46.428351309707246, 74.38736842105263, 'gini = 0.0\\nsamples = 1\\nvalue = [0, 1, 0, 0, 0, 0]'),\n",
              " Text(48.49183359013868, 74.38736842105263, 'gini = 0.0\\nsamples = 2\\nvalue = [0, 0, 2, 0, 0, 0]'),\n",
              " Text(50.55531587057011, 97.27578947368421, 'X[7] <= 0.997\\ngini = 0.625\\nsamples = 4\\nvalue = [0, 2, 1, 1, 0, 0]'),\n",
              " Text(49.5235747303544, 85.83157894736843, 'gini = 0.0\\nsamples = 2\\nvalue = [0, 2, 0, 0, 0, 0]'),\n",
              " Text(51.58705701078583, 85.83157894736843, 'X[8] <= 3.12\\ngini = 0.5\\nsamples = 2\\nvalue = [0, 0, 1, 1, 0, 0]'),\n",
              " Text(50.55531587057011, 74.38736842105263, 'gini = 0.0\\nsamples = 1\\nvalue = [0, 0, 0, 1, 0, 0]'),\n",
              " Text(52.61879815100155, 74.38736842105263, 'gini = 0.0\\nsamples = 1\\nvalue = [0, 0, 1, 0, 0, 0]'),\n",
              " Text(141.03720026001542, 188.82947368421054, 'X[6] <= 81.5\\ngini = 0.558\\nsamples = 396\\nvalue = [2, 7, 205, 164, 18, 0]'),\n",
              " Text(127.57116477272729, 177.38526315789474, 'X[0] <= 10.85\\ngini = 0.571\\nsamples = 323\\nvalue = [2, 5, 145, 153, 18, 0]'),\n",
              " Text(111.2144404853621, 165.94105263157894, 'X[1] <= 0.663\\ngini = 0.558\\nsamples = 286\\nvalue = [2, 5, 141, 127, 11, 0]'),\n",
              " Text(98.10407357473036, 154.49684210526317, 'X[10] <= 9.85\\ngini = 0.548\\nsamples = 229\\nvalue = [1, 1, 103, 114, 10, 0]'),\n",
              " Text(89.29397149460709, 143.05263157894737, 'X[10] <= 9.75\\ngini = 0.514\\nsamples = 167\\nvalue = [1, 0, 89, 75, 2, 0]'),\n",
              " Text(82.1201463790447, 131.60842105263157, 'X[2] <= 0.55\\ngini = 0.52\\nsamples = 147\\nvalue = [1, 0, 72, 72, 2, 0]'),\n",
              " Text(70.86771956856704, 120.16421052631578, 'X[7] <= 0.997\\ngini = 0.519\\nsamples = 135\\nvalue = [1, 0, 61, 71, 2, 0]'),\n",
              " Text(60.356856702619424, 108.72, 'X[3] <= 1.95\\ngini = 0.426\\nsamples = 26\\nvalue = [0, 0, 18, 8, 0, 0]'),\n",
              " Text(57.77750385208013, 97.27578947368421, 'X[8] <= 3.415\\ngini = 0.278\\nsamples = 18\\nvalue = [0, 0, 15, 3, 0, 0]'),\n",
              " Text(55.7140215716487, 85.83157894736843, 'X[2] <= 0.02\\ngini = 0.133\\nsamples = 14\\nvalue = [0, 0, 13, 1, 0, 0]'),\n",
              " Text(54.68228043143298, 74.38736842105263, 'gini = 0.0\\nsamples = 1\\nvalue = [0, 0, 0, 1, 0, 0]'),\n",
              " Text(56.745762711864415, 74.38736842105263, 'gini = 0.0\\nsamples = 13\\nvalue = [0, 0, 13, 0, 0, 0]'),\n",
              " Text(59.84098613251156, 85.83157894736843, 'X[5] <= 14.5\\ngini = 0.5\\nsamples = 4\\nvalue = [0, 0, 2, 2, 0, 0]'),\n",
              " Text(58.809244992295845, 74.38736842105263, 'gini = 0.0\\nsamples = 2\\nvalue = [0, 0, 2, 0, 0, 0]'),\n",
              " Text(60.87272727272728, 74.38736842105263, 'gini = 0.0\\nsamples = 2\\nvalue = [0, 0, 0, 2, 0, 0]'),\n",
              " Text(62.93620955315871, 97.27578947368421, 'X[2] <= 0.03\\ngini = 0.469\\nsamples = 8\\nvalue = [0, 0, 3, 5, 0, 0]'),\n",
              " Text(61.904468412943, 85.83157894736843, 'gini = 0.0\\nsamples = 1\\nvalue = [0, 0, 1, 0, 0, 0]'),\n",
              " Text(63.96795069337443, 85.83157894736843, 'X[10] <= 9.3\\ngini = 0.408\\nsamples = 7\\nvalue = [0, 0, 2, 5, 0, 0]'),\n",
              " Text(62.93620955315871, 74.38736842105263, 'gini = 0.0\\nsamples = 1\\nvalue = [0, 0, 1, 0, 0, 0]'),\n",
              " Text(64.99969183359015, 74.38736842105263, 'X[4] <= 0.066\\ngini = 0.278\\nsamples = 6\\nvalue = [0, 0, 1, 5, 0, 0]'),\n",
              " Text(63.96795069337443, 62.943157894736856, 'X[0] <= 6.75\\ngini = 0.5\\nsamples = 2\\nvalue = [0, 0, 1, 1, 0, 0]'),\n",
              " Text(62.93620955315871, 51.49894736842106, 'gini = 0.0\\nsamples = 1\\nvalue = [0, 0, 1, 0, 0, 0]'),\n",
              " Text(64.99969183359015, 51.49894736842106, 'gini = 0.0\\nsamples = 1\\nvalue = [0, 0, 0, 1, 0, 0]'),\n",
              " Text(66.03143297380586, 62.943157894736856, 'gini = 0.0\\nsamples = 4\\nvalue = [0, 0, 0, 4, 0, 0]'),\n",
              " Text(81.37858243451464, 108.72, 'X[0] <= 8.55\\ngini = 0.51\\nsamples = 109\\nvalue = [1, 0, 43, 63, 2, 0]'),\n",
              " Text(73.51155624036981, 97.27578947368421, 'X[6] <= 19.5\\ngini = 0.436\\nsamples = 74\\nvalue = [0, 0, 22, 51, 1, 0]'),\n",
              " Text(70.15839753466872, 85.83157894736843, 'X[1] <= 0.475\\ngini = 0.346\\nsamples = 9\\nvalue = [0, 0, 7, 2, 0, 0]'),\n",
              " Text(69.12665639445301, 74.38736842105263, 'X[8] <= 3.295\\ngini = 0.444\\nsamples = 3\\nvalue = [0, 0, 1, 2, 0, 0]'),\n",
              " Text(68.09491525423729, 62.943157894736856, 'gini = 0.0\\nsamples = 2\\nvalue = [0, 0, 0, 2, 0, 0]'),\n",
              " Text(70.15839753466872, 62.943157894736856, 'gini = 0.0\\nsamples = 1\\nvalue = [0, 0, 1, 0, 0, 0]'),\n",
              " Text(71.19013867488445, 74.38736842105263, 'gini = 0.0\\nsamples = 6\\nvalue = [0, 0, 6, 0, 0, 0]'),\n",
              " Text(76.86471494607089, 85.83157894736843, 'X[8] <= 3.53\\ngini = 0.378\\nsamples = 65\\nvalue = [0, 0, 15, 49, 1, 0]'),\n",
              " Text(74.2853620955316, 74.38736842105263, 'X[6] <= 38.5\\ngini = 0.326\\nsamples = 60\\nvalue = [0, 0, 11, 48, 1, 0]'),\n",
              " Text(72.22187981510017, 62.943157894736856, 'X[7] <= 0.997\\ngini = 0.08\\nsamples = 24\\nvalue = [0, 0, 0, 23, 1, 0]'),\n",
              " Text(71.19013867488445, 51.49894736842106, 'X[8] <= 3.375\\ngini = 0.32\\nsamples = 5\\nvalue = [0, 0, 0, 4, 1, 0]'),\n",
              " Text(70.15839753466872, 40.05473684210526, 'gini = 0.0\\nsamples = 4\\nvalue = [0, 0, 0, 4, 0, 0]'),\n",
              " Text(72.22187981510017, 40.05473684210526, 'gini = 0.0\\nsamples = 1\\nvalue = [0, 0, 0, 0, 1, 0]'),\n",
              " Text(73.25362095531588, 51.49894736842106, 'gini = 0.0\\nsamples = 19\\nvalue = [0, 0, 0, 19, 0, 0]'),\n",
              " Text(76.34884437596303, 62.943157894736856, 'X[1] <= 0.405\\ngini = 0.424\\nsamples = 36\\nvalue = [0, 0, 11, 25, 0, 0]'),\n",
              " Text(75.31710323574731, 51.49894736842106, 'gini = 0.0\\nsamples = 13\\nvalue = [0, 0, 0, 13, 0, 0]'),\n",
              " Text(77.38058551617874, 51.49894736842106, 'X[1] <= 0.565\\ngini = 0.499\\nsamples = 23\\nvalue = [0, 0, 11, 12, 0, 0]'),\n",
              " Text(75.31710323574731, 40.05473684210526, 'X[9] <= 0.65\\ngini = 0.408\\nsamples = 14\\nvalue = [0, 0, 10, 4, 0, 0]'),\n",
              " Text(74.2853620955316, 28.610526315789485, 'gini = 0.0\\nsamples = 9\\nvalue = [0, 0, 9, 0, 0, 0]'),\n",
              " Text(76.34884437596303, 28.610526315789485, 'X[8] <= 3.175\\ngini = 0.32\\nsamples = 5\\nvalue = [0, 0, 1, 4, 0, 0]'),\n",
              " Text(75.31710323574731, 17.166315789473686, 'gini = 0.0\\nsamples = 1\\nvalue = [0, 0, 1, 0, 0, 0]'),\n",
              " Text(77.38058551617874, 17.166315789473686, 'gini = 0.0\\nsamples = 4\\nvalue = [0, 0, 0, 4, 0, 0]'),\n",
              " Text(79.44406779661018, 40.05473684210526, 'X[5] <= 29.5\\ngini = 0.198\\nsamples = 9\\nvalue = [0, 0, 1, 8, 0, 0]'),\n",
              " Text(78.41232665639447, 28.610526315789485, 'gini = 0.0\\nsamples = 8\\nvalue = [0, 0, 0, 8, 0, 0]'),\n",
              " Text(80.4758089368259, 28.610526315789485, 'gini = 0.0\\nsamples = 1\\nvalue = [0, 0, 1, 0, 0, 0]'),\n",
              " Text(79.44406779661018, 74.38736842105263, 'X[6] <= 28.0\\ngini = 0.32\\nsamples = 5\\nvalue = [0, 0, 4, 1, 0, 0]'),\n",
              " Text(78.41232665639447, 62.943157894736856, 'gini = 0.0\\nsamples = 1\\nvalue = [0, 0, 0, 1, 0, 0]'),\n",
              " Text(80.4758089368259, 62.943157894736856, 'gini = 0.0\\nsamples = 4\\nvalue = [0, 0, 4, 0, 0, 0]'),\n",
              " Text(89.24560862865948, 97.27578947368421, 'X[0] <= 9.95\\ngini = 0.521\\nsamples = 35\\nvalue = [1, 0, 21, 12, 1, 0]'),\n",
              " Text(85.63451463790447, 85.83157894736843, 'X[7] <= 0.998\\ngini = 0.277\\nsamples = 19\\nvalue = [0, 0, 16, 2, 1, 0]'),\n",
              " Text(83.57103235747304, 74.38736842105263, 'X[5] <= 8.5\\ngini = 0.5\\nsamples = 4\\nvalue = [0, 0, 2, 2, 0, 0]'),\n",
              " Text(82.53929121725733, 62.943157894736856, 'gini = 0.0\\nsamples = 2\\nvalue = [0, 0, 0, 2, 0, 0]'),\n",
              " Text(84.60277349768876, 62.943157894736856, 'gini = 0.0\\nsamples = 2\\nvalue = [0, 0, 2, 0, 0, 0]'),\n",
              " Text(87.69799691833592, 74.38736842105263, 'X[0] <= 9.75\\ngini = 0.124\\nsamples = 15\\nvalue = [0, 0, 14, 0, 1, 0]'),\n",
              " Text(86.66625577812019, 62.943157894736856, 'gini = 0.0\\nsamples = 13\\nvalue = [0, 0, 13, 0, 0, 0]'),\n",
              " Text(88.72973805855163, 62.943157894736856, 'X[4] <= 0.082\\ngini = 0.5\\nsamples = 2\\nvalue = [0, 0, 1, 0, 1, 0]'),\n",
              " Text(87.69799691833592, 51.49894736842106, 'gini = 0.0\\nsamples = 1\\nvalue = [0, 0, 1, 0, 0, 0]'),\n",
              " Text(89.76147919876735, 51.49894736842106, 'gini = 0.0\\nsamples = 1\\nvalue = [0, 0, 0, 0, 1, 0]'),\n",
              " Text(92.85670261941449, 85.83157894736843, 'X[1] <= 0.37\\ngini = 0.508\\nsamples = 16\\nvalue = [1, 0, 5, 10, 0, 0]'),\n",
              " Text(91.82496147919878, 74.38736842105263, 'gini = 0.0\\nsamples = 3\\nvalue = [0, 0, 3, 0, 0, 0]'),\n",
              " Text(93.8884437596302, 74.38736842105263, 'X[2] <= 0.485\\ngini = 0.379\\nsamples = 13\\nvalue = [1, 0, 2, 10, 0, 0]'),\n",
              " Text(92.85670261941449, 62.943157894736856, 'X[3] <= 2.05\\ngini = 0.278\\nsamples = 12\\nvalue = [0, 0, 2, 10, 0, 0]'),\n",
              " Text(91.82496147919878, 51.49894736842106, 'gini = 0.0\\nsamples = 1\\nvalue = [0, 0, 1, 0, 0, 0]'),\n",
              " Text(93.8884437596302, 51.49894736842106, 'X[5] <= 5.5\\ngini = 0.165\\nsamples = 11\\nvalue = [0, 0, 1, 10, 0, 0]'),\n",
              " Text(92.85670261941449, 40.05473684210526, 'X[1] <= 0.465\\ngini = 0.5\\nsamples = 2\\nvalue = [0, 0, 1, 1, 0, 0]'),\n",
              " Text(91.82496147919878, 28.610526315789485, 'gini = 0.0\\nsamples = 1\\nvalue = [0, 0, 0, 1, 0, 0]'),\n",
              " Text(93.8884437596302, 28.610526315789485, 'gini = 0.0\\nsamples = 1\\nvalue = [0, 0, 1, 0, 0, 0]'),\n",
              " Text(94.92018489984594, 40.05473684210526, 'gini = 0.0\\nsamples = 9\\nvalue = [0, 0, 0, 9, 0, 0]'),\n",
              " Text(94.92018489984594, 62.943157894736856, 'gini = 0.0\\nsamples = 1\\nvalue = [1, 0, 0, 0, 0, 0]'),\n",
              " Text(93.37257318952236, 120.16421052631578, 'X[10] <= 9.15\\ngini = 0.153\\nsamples = 12\\nvalue = [0, 0, 11, 1, 0, 0]'),\n",
              " Text(92.34083204930664, 108.72, 'X[8] <= 3.19\\ngini = 0.5\\nsamples = 2\\nvalue = [0, 0, 1, 1, 0, 0]'),\n",
              " Text(91.30909090909093, 97.27578947368421, 'gini = 0.0\\nsamples = 1\\nvalue = [0, 0, 0, 1, 0, 0]'),\n",
              " Text(93.37257318952236, 97.27578947368421, 'gini = 0.0\\nsamples = 1\\nvalue = [0, 0, 1, 0, 0, 0]'),\n",
              " Text(94.40431432973807, 108.72, 'gini = 0.0\\nsamples = 10\\nvalue = [0, 0, 10, 0, 0, 0]'),\n",
              " Text(96.4677966101695, 131.60842105263157, 'X[6] <= 27.5\\ngini = 0.255\\nsamples = 20\\nvalue = [0, 0, 17, 3, 0, 0]'),\n",
              " Text(95.43605546995379, 120.16421052631578, 'gini = 0.0\\nsamples = 2\\nvalue = [0, 0, 0, 2, 0, 0]'),\n",
              " Text(97.49953775038522, 120.16421052631578, 'X[1] <= 0.38\\ngini = 0.105\\nsamples = 18\\nvalue = [0, 0, 17, 1, 0, 0]'),\n",
              " Text(96.4677966101695, 108.72, 'X[7] <= 0.997\\ngini = 0.5\\nsamples = 2\\nvalue = [0, 0, 1, 1, 0, 0]'),\n",
              " Text(95.43605546995379, 97.27578947368421, 'gini = 0.0\\nsamples = 1\\nvalue = [0, 0, 1, 0, 0, 0]'),\n",
              " Text(97.49953775038522, 97.27578947368421, 'gini = 0.0\\nsamples = 1\\nvalue = [0, 0, 0, 1, 0, 0]'),\n",
              " Text(98.53127889060093, 108.72, 'gini = 0.0\\nsamples = 16\\nvalue = [0, 0, 16, 0, 0, 0]'),\n",
              " Text(106.91417565485364, 143.05263157894737, 'X[9] <= 0.595\\ngini = 0.536\\nsamples = 62\\nvalue = [0, 1, 14, 39, 8, 0]'),\n",
              " Text(103.17411402157165, 131.60842105263157, 'X[5] <= 13.5\\ngini = 0.245\\nsamples = 7\\nvalue = [0, 0, 6, 1, 0, 0]'),\n",
              " Text(102.14237288135594, 120.16421052631578, 'gini = 0.0\\nsamples = 1\\nvalue = [0, 0, 0, 1, 0, 0]'),\n",
              " Text(104.20585516178738, 120.16421052631578, 'gini = 0.0\\nsamples = 6\\nvalue = [0, 0, 6, 0, 0, 0]'),\n",
              " Text(110.6542372881356, 131.60842105263157, 'X[5] <= 27.5\\ngini = 0.48\\nsamples = 55\\nvalue = [0, 1, 8, 38, 8, 0]'),\n",
              " Text(106.26933744221881, 120.16421052631578, 'X[2] <= 0.17\\ngini = 0.411\\nsamples = 48\\nvalue = [0, 1, 5, 36, 6, 0]'),\n",
              " Text(102.6582434514638, 108.72, 'X[5] <= 15.5\\ngini = 0.648\\nsamples = 16\\nvalue = [0, 1, 3, 8, 4, 0]'),\n",
              " Text(99.56302003081666, 97.27578947368421, 'X[9] <= 0.615\\ngini = 0.656\\nsamples = 8\\nvalue = [0, 1, 2, 1, 4, 0]'),\n",
              " Text(98.53127889060093, 85.83157894736843, 'gini = 0.0\\nsamples = 2\\nvalue = [0, 0, 2, 0, 0, 0]'),\n",
              " Text(100.59476117103237, 85.83157894736843, 'X[2] <= 0.06\\ngini = 0.5\\nsamples = 6\\nvalue = [0, 1, 0, 1, 4, 0]'),\n",
              " Text(99.56302003081666, 74.38736842105263, 'X[9] <= 0.79\\ngini = 0.5\\nsamples = 2\\nvalue = [0, 1, 0, 1, 0, 0]'),\n",
              " Text(98.53127889060093, 62.943157894736856, 'gini = 0.0\\nsamples = 1\\nvalue = [0, 1, 0, 0, 0, 0]'),\n",
              " Text(100.59476117103237, 62.943157894736856, 'gini = 0.0\\nsamples = 1\\nvalue = [0, 0, 0, 1, 0, 0]'),\n",
              " Text(101.62650231124809, 74.38736842105263, 'gini = 0.0\\nsamples = 4\\nvalue = [0, 0, 0, 0, 4, 0]'),\n",
              " Text(105.75346687211095, 97.27578947368421, 'X[9] <= 0.615\\ngini = 0.219\\nsamples = 8\\nvalue = [0, 0, 1, 7, 0, 0]'),\n",
              " Text(104.72172573189523, 85.83157894736843, 'X[4] <= 0.074\\ngini = 0.5\\nsamples = 2\\nvalue = [0, 0, 1, 1, 0, 0]'),\n",
              " Text(103.68998459167952, 74.38736842105263, 'gini = 0.0\\nsamples = 1\\nvalue = [0, 0, 1, 0, 0, 0]'),\n",
              " Text(105.75346687211095, 74.38736842105263, 'gini = 0.0\\nsamples = 1\\nvalue = [0, 0, 0, 1, 0, 0]'),\n",
              " Text(106.78520801232666, 85.83157894736843, 'gini = 0.0\\nsamples = 6\\nvalue = [0, 0, 0, 6, 0, 0]'),\n",
              " Text(109.88043143297382, 108.72, 'X[8] <= 2.99\\ngini = 0.227\\nsamples = 32\\nvalue = [0, 0, 2, 28, 2, 0]'),\n",
              " Text(108.8486902927581, 97.27578947368421, 'gini = 0.0\\nsamples = 1\\nvalue = [0, 0, 1, 0, 0, 0]'),\n",
              " Text(110.91217257318954, 97.27578947368421, 'X[4] <= 0.091\\ngini = 0.179\\nsamples = 31\\nvalue = [0, 0, 1, 28, 2, 0]'),\n",
              " Text(108.8486902927581, 85.83157894736843, 'X[4] <= 0.065\\ngini = 0.08\\nsamples = 24\\nvalue = [0, 0, 1, 23, 0, 0]'),\n",
              " Text(107.81694915254239, 74.38736842105263, 'X[3] <= 2.0\\ngini = 0.278\\nsamples = 6\\nvalue = [0, 0, 1, 5, 0, 0]'),\n",
              " Text(106.78520801232666, 62.943157894736856, 'gini = 0.0\\nsamples = 5\\nvalue = [0, 0, 0, 5, 0, 0]'),\n",
              " Text(108.8486902927581, 62.943157894736856, 'gini = 0.0\\nsamples = 1\\nvalue = [0, 0, 1, 0, 0, 0]'),\n",
              " Text(109.88043143297382, 74.38736842105263, 'gini = 0.0\\nsamples = 18\\nvalue = [0, 0, 0, 18, 0, 0]'),\n",
              " Text(112.97565485362097, 85.83157894736843, 'X[7] <= 0.998\\ngini = 0.408\\nsamples = 7\\nvalue = [0, 0, 0, 5, 2, 0]'),\n",
              " Text(111.94391371340525, 74.38736842105263, 'gini = 0.0\\nsamples = 5\\nvalue = [0, 0, 0, 5, 0, 0]'),\n",
              " Text(114.00739599383668, 74.38736842105263, 'gini = 0.0\\nsamples = 2\\nvalue = [0, 0, 0, 0, 2, 0]'),\n",
              " Text(115.0391371340524, 120.16421052631578, 'X[10] <= 10.15\\ngini = 0.653\\nsamples = 7\\nvalue = [0, 0, 3, 2, 2, 0]'),\n",
              " Text(114.00739599383668, 108.72, 'X[4] <= 0.063\\ngini = 0.48\\nsamples = 5\\nvalue = [0, 0, 3, 0, 2, 0]'),\n",
              " Text(112.97565485362097, 97.27578947368421, 'gini = 0.0\\nsamples = 2\\nvalue = [0, 0, 0, 0, 2, 0]'),\n",
              " Text(115.0391371340524, 97.27578947368421, 'gini = 0.0\\nsamples = 3\\nvalue = [0, 0, 3, 0, 0, 0]'),\n",
              " Text(116.07087827426813, 108.72, 'gini = 0.0\\nsamples = 2\\nvalue = [0, 0, 0, 2, 0, 0]'),\n",
              " Text(124.32480739599386, 154.49684210526317, 'X[6] <= 17.0\\ngini = 0.498\\nsamples = 57\\nvalue = [1, 4, 38, 13, 1, 0]'),\n",
              " Text(120.19784283513098, 143.05263157894737, 'X[10] <= 9.75\\ngini = 0.656\\nsamples = 8\\nvalue = [1, 1, 2, 4, 0, 0]'),\n",
              " Text(118.13436055469955, 131.60842105263157, 'X[1] <= 0.68\\ngini = 0.32\\nsamples = 5\\nvalue = [0, 0, 1, 4, 0, 0]'),\n",
              " Text(117.10261941448384, 120.16421052631578, 'gini = 0.0\\nsamples = 1\\nvalue = [0, 0, 1, 0, 0, 0]'),\n",
              " Text(119.16610169491527, 120.16421052631578, 'gini = 0.0\\nsamples = 4\\nvalue = [0, 0, 0, 4, 0, 0]'),\n",
              " Text(122.26132511556241, 131.60842105263157, 'X[2] <= 0.01\\ngini = 0.667\\nsamples = 3\\nvalue = [1, 1, 1, 0, 0, 0]'),\n",
              " Text(121.2295839753467, 120.16421052631578, 'X[7] <= 0.996\\ngini = 0.5\\nsamples = 2\\nvalue = [0, 1, 1, 0, 0, 0]'),\n",
              " Text(120.19784283513098, 108.72, 'gini = 0.0\\nsamples = 1\\nvalue = [0, 0, 1, 0, 0, 0]'),\n",
              " Text(122.26132511556241, 108.72, 'gini = 0.0\\nsamples = 1\\nvalue = [0, 1, 0, 0, 0, 0]'),\n",
              " Text(123.29306625577813, 120.16421052631578, 'gini = 0.0\\nsamples = 1\\nvalue = [1, 0, 0, 0, 0, 0]'),\n",
              " Text(128.45177195685673, 143.05263157894737, 'X[7] <= 1.0\\ngini = 0.422\\nsamples = 49\\nvalue = [0, 3, 36, 9, 1, 0]'),\n",
              " Text(126.38828967642529, 131.60842105263157, 'X[1] <= 0.97\\ngini = 0.382\\nsamples = 47\\nvalue = [0, 2, 36, 8, 1, 0]'),\n",
              " Text(125.35654853620957, 120.16421052631578, 'X[5] <= 41.0\\ngini = 0.356\\nsamples = 46\\nvalue = [0, 1, 36, 8, 1, 0]'),\n",
              " Text(124.32480739599386, 108.72, 'X[3] <= 1.65\\ngini = 0.335\\nsamples = 45\\nvalue = [0, 1, 36, 7, 1, 0]'),\n",
              " Text(120.19784283513098, 97.27578947368421, 'X[3] <= 1.25\\ngini = 0.667\\nsamples = 3\\nvalue = [0, 1, 1, 1, 0, 0]'),\n",
              " Text(119.16610169491527, 85.83157894736843, 'gini = 0.0\\nsamples = 1\\nvalue = [0, 0, 1, 0, 0, 0]'),\n",
              " Text(121.2295839753467, 85.83157894736843, 'X[6] <= 25.5\\ngini = 0.5\\nsamples = 2\\nvalue = [0, 1, 0, 1, 0, 0]'),\n",
              " Text(120.19784283513098, 74.38736842105263, 'gini = 0.0\\nsamples = 1\\nvalue = [0, 1, 0, 0, 0, 0]'),\n",
              " Text(122.26132511556241, 74.38736842105263, 'gini = 0.0\\nsamples = 1\\nvalue = [0, 0, 0, 1, 0, 0]'),\n",
              " Text(128.45177195685673, 97.27578947368421, 'X[1] <= 0.728\\ngini = 0.285\\nsamples = 42\\nvalue = [0, 0, 35, 6, 1, 0]'),\n",
              " Text(125.35654853620957, 85.83157894736843, 'X[8] <= 3.495\\ngini = 0.08\\nsamples = 24\\nvalue = [0, 0, 23, 1, 0, 0]'),\n",
              " Text(124.32480739599386, 74.38736842105263, 'gini = 0.0\\nsamples = 19\\nvalue = [0, 0, 19, 0, 0, 0]'),\n",
              " Text(126.38828967642529, 74.38736842105263, 'X[3] <= 1.85\\ngini = 0.32\\nsamples = 5\\nvalue = [0, 0, 4, 1, 0, 0]'),\n",
              " Text(125.35654853620957, 62.943157894736856, 'gini = 0.0\\nsamples = 1\\nvalue = [0, 0, 0, 1, 0, 0]'),\n",
              " Text(127.420030816641, 62.943157894736856, 'gini = 0.0\\nsamples = 4\\nvalue = [0, 0, 4, 0, 0, 0]'),\n",
              " Text(131.54699537750386, 85.83157894736843, 'X[7] <= 0.998\\ngini = 0.475\\nsamples = 18\\nvalue = [0, 0, 12, 5, 1, 0]'),\n",
              " Text(130.51525423728816, 74.38736842105263, 'X[9] <= 0.605\\ngini = 0.338\\nsamples = 15\\nvalue = [0, 0, 12, 2, 1, 0]'),\n",
              " Text(129.48351309707243, 62.943157894736856, 'gini = 0.0\\nsamples = 1\\nvalue = [0, 0, 0, 1, 0, 0]'),\n",
              " Text(131.54699537750386, 62.943157894736856, 'X[4] <= 0.138\\ngini = 0.255\\nsamples = 14\\nvalue = [0, 0, 12, 1, 1, 0]'),\n",
              " Text(129.48351309707243, 51.49894736842106, 'X[1] <= 0.74\\ngini = 0.153\\nsamples = 12\\nvalue = [0, 0, 11, 1, 0, 0]'),\n",
              " Text(128.45177195685673, 40.05473684210526, 'X[8] <= 3.255\\ngini = 0.5\\nsamples = 2\\nvalue = [0, 0, 1, 1, 0, 0]'),\n",
              " Text(127.420030816641, 28.610526315789485, 'gini = 0.0\\nsamples = 1\\nvalue = [0, 0, 0, 1, 0, 0]'),\n",
              " Text(129.48351309707243, 28.610526315789485, 'gini = 0.0\\nsamples = 1\\nvalue = [0, 0, 1, 0, 0, 0]'),\n",
              " Text(130.51525423728816, 40.05473684210526, 'gini = 0.0\\nsamples = 10\\nvalue = [0, 0, 10, 0, 0, 0]'),\n",
              " Text(133.6104776579353, 51.49894736842106, 'X[2] <= 0.315\\ngini = 0.5\\nsamples = 2\\nvalue = [0, 0, 1, 0, 1, 0]'),\n",
              " Text(132.5787365177196, 40.05473684210526, 'gini = 0.0\\nsamples = 1\\nvalue = [0, 0, 0, 0, 1, 0]'),\n",
              " Text(134.64221879815102, 40.05473684210526, 'gini = 0.0\\nsamples = 1\\nvalue = [0, 0, 1, 0, 0, 0]'),\n",
              " Text(132.5787365177196, 74.38736842105263, 'gini = 0.0\\nsamples = 3\\nvalue = [0, 0, 0, 3, 0, 0]'),\n",
              " Text(126.38828967642529, 108.72, 'gini = 0.0\\nsamples = 1\\nvalue = [0, 0, 0, 1, 0, 0]'),\n",
              " Text(127.420030816641, 120.16421052631578, 'gini = 0.0\\nsamples = 1\\nvalue = [0, 1, 0, 0, 0, 0]'),\n",
              " Text(130.51525423728816, 131.60842105263157, 'X[9] <= 0.85\\ngini = 0.5\\nsamples = 2\\nvalue = [0, 1, 0, 1, 0, 0]'),\n",
              " Text(129.48351309707243, 120.16421052631578, 'gini = 0.0\\nsamples = 1\\nvalue = [0, 1, 0, 0, 0, 0]'),\n",
              " Text(131.54699537750386, 120.16421052631578, 'gini = 0.0\\nsamples = 1\\nvalue = [0, 0, 0, 1, 0, 0]'),\n",
              " Text(143.92788906009247, 165.94105263157894, 'X[3] <= 4.3\\ngini = 0.459\\nsamples = 37\\nvalue = [0, 0, 4, 26, 7, 0]'),\n",
              " Text(141.86440677966104, 154.49684210526317, 'X[5] <= 19.5\\ngini = 0.386\\nsamples = 34\\nvalue = [0, 0, 3, 26, 5, 0]'),\n",
              " Text(140.8326656394453, 143.05263157894737, 'X[10] <= 10.15\\ngini = 0.322\\nsamples = 32\\nvalue = [0, 0, 3, 26, 3, 0]'),\n",
              " Text(138.76918335901388, 131.60842105263157, 'X[0] <= 14.65\\ngini = 0.245\\nsamples = 29\\nvalue = [0, 0, 1, 25, 3, 0]'),\n",
              " Text(137.73744221879818, 120.16421052631578, 'X[9] <= 1.27\\ngini = 0.196\\nsamples = 28\\nvalue = [0, 0, 1, 25, 2, 0]'),\n",
              " Text(136.70570107858245, 108.72, 'X[2] <= 0.425\\ngini = 0.14\\nsamples = 27\\nvalue = [0, 0, 1, 25, 1, 0]'),\n",
              " Text(134.64221879815102, 97.27578947368421, 'X[0] <= 11.45\\ngini = 0.444\\nsamples = 3\\nvalue = [0, 0, 1, 2, 0, 0]'),\n",
              " Text(133.6104776579353, 85.83157894736843, 'gini = 0.0\\nsamples = 1\\nvalue = [0, 0, 1, 0, 0, 0]'),\n",
              " Text(135.67395993836672, 85.83157894736843, 'gini = 0.0\\nsamples = 2\\nvalue = [0, 0, 0, 2, 0, 0]'),\n",
              " Text(138.76918335901388, 97.27578947368421, 'X[7] <= 0.998\\ngini = 0.08\\nsamples = 24\\nvalue = [0, 0, 0, 23, 1, 0]'),\n",
              " Text(137.73744221879818, 85.83157894736843, 'X[2] <= 0.485\\ngini = 0.5\\nsamples = 2\\nvalue = [0, 0, 0, 1, 1, 0]'),\n",
              " Text(136.70570107858245, 74.38736842105263, 'gini = 0.0\\nsamples = 1\\nvalue = [0, 0, 0, 1, 0, 0]'),\n",
              " Text(138.76918335901388, 74.38736842105263, 'gini = 0.0\\nsamples = 1\\nvalue = [0, 0, 0, 0, 1, 0]'),\n",
              " Text(139.8009244992296, 85.83157894736843, 'gini = 0.0\\nsamples = 22\\nvalue = [0, 0, 0, 22, 0, 0]'),\n",
              " Text(138.76918335901388, 108.72, 'gini = 0.0\\nsamples = 1\\nvalue = [0, 0, 0, 0, 1, 0]'),\n",
              " Text(139.8009244992296, 120.16421052631578, 'gini = 0.0\\nsamples = 1\\nvalue = [0, 0, 0, 0, 1, 0]'),\n",
              " Text(142.89614791987674, 131.60842105263157, 'X[2] <= 0.58\\ngini = 0.444\\nsamples = 3\\nvalue = [0, 0, 2, 1, 0, 0]'),\n",
              " Text(141.86440677966104, 120.16421052631578, 'gini = 0.0\\nsamples = 2\\nvalue = [0, 0, 2, 0, 0, 0]'),\n",
              " Text(143.92788906009247, 120.16421052631578, 'gini = 0.0\\nsamples = 1\\nvalue = [0, 0, 0, 1, 0, 0]'),\n",
              " Text(142.89614791987674, 143.05263157894737, 'gini = 0.0\\nsamples = 2\\nvalue = [0, 0, 0, 0, 2, 0]'),\n",
              " Text(145.9913713405239, 154.49684210526317, 'X[1] <= 0.517\\ngini = 0.444\\nsamples = 3\\nvalue = [0, 0, 1, 0, 2, 0]'),\n",
              " Text(144.9596302003082, 143.05263157894737, 'gini = 0.0\\nsamples = 1\\nvalue = [0, 0, 1, 0, 0, 0]'),\n",
              " Text(147.02311248073963, 143.05263157894737, 'gini = 0.0\\nsamples = 2\\nvalue = [0, 0, 0, 0, 2, 0]'),\n",
              " Text(154.50323574730356, 177.38526315789474, 'X[8] <= 2.935\\ngini = 0.301\\nsamples = 73\\nvalue = [0, 2, 60, 11, 0, 0]'),\n",
              " Text(153.47149460708783, 165.94105263157894, 'gini = 0.0\\nsamples = 3\\nvalue = [0, 0, 0, 3, 0, 0]'),\n",
              " Text(155.5349768875193, 165.94105263157894, 'X[4] <= 0.083\\ngini = 0.251\\nsamples = 70\\nvalue = [0, 2, 60, 8, 0, 0]'),\n",
              " Text(151.66594761171035, 154.49684210526317, 'X[6] <= 95.0\\ngini = 0.474\\nsamples = 25\\nvalue = [0, 2, 17, 6, 0, 0]'),\n",
              " Text(149.08659476117106, 143.05263157894737, 'X[6] <= 85.5\\ngini = 0.569\\nsamples = 12\\nvalue = [0, 1, 5, 6, 0, 0]'),\n",
              " Text(147.02311248073963, 131.60842105263157, 'X[3] <= 2.55\\ngini = 0.32\\nsamples = 5\\nvalue = [0, 1, 4, 0, 0, 0]'),\n",
              " Text(145.9913713405239, 120.16421052631578, 'gini = 0.0\\nsamples = 4\\nvalue = [0, 0, 4, 0, 0, 0]'),\n",
              " Text(148.05485362095533, 120.16421052631578, 'gini = 0.0\\nsamples = 1\\nvalue = [0, 1, 0, 0, 0, 0]'),\n",
              " Text(151.1500770416025, 131.60842105263157, 'X[3] <= 2.55\\ngini = 0.245\\nsamples = 7\\nvalue = [0, 0, 1, 6, 0, 0]'),\n",
              " Text(150.11833590138676, 120.16421052631578, 'gini = 0.0\\nsamples = 6\\nvalue = [0, 0, 0, 6, 0, 0]'),\n",
              " Text(152.1818181818182, 120.16421052631578, 'gini = 0.0\\nsamples = 1\\nvalue = [0, 0, 1, 0, 0, 0]'),\n",
              " Text(154.24530046224965, 143.05263157894737, 'X[10] <= 9.15\\ngini = 0.142\\nsamples = 13\\nvalue = [0, 1, 12, 0, 0, 0]'),\n",
              " Text(153.21355932203392, 131.60842105263157, 'gini = 0.0\\nsamples = 1\\nvalue = [0, 1, 0, 0, 0, 0]'),\n",
              " Text(155.27704160246535, 131.60842105263157, 'gini = 0.0\\nsamples = 12\\nvalue = [0, 0, 12, 0, 0, 0]'),\n",
              " Text(159.4040061633282, 154.49684210526317, 'X[7] <= 1.003\\ngini = 0.085\\nsamples = 45\\nvalue = [0, 0, 43, 2, 0, 0]'),\n",
              " Text(158.3722650231125, 143.05263157894737, 'X[8] <= 3.315\\ngini = 0.044\\nsamples = 44\\nvalue = [0, 0, 43, 1, 0, 0]'),\n",
              " Text(157.34052388289678, 131.60842105263157, 'gini = 0.0\\nsamples = 39\\nvalue = [0, 0, 39, 0, 0, 0]'),\n",
              " Text(159.4040061633282, 131.60842105263157, 'X[8] <= 3.35\\ngini = 0.32\\nsamples = 5\\nvalue = [0, 0, 4, 1, 0, 0]'),\n",
              " Text(158.3722650231125, 120.16421052631578, 'X[10] <= 9.45\\ngini = 0.5\\nsamples = 2\\nvalue = [0, 0, 1, 1, 0, 0]'),\n",
              " Text(157.34052388289678, 108.72, 'gini = 0.0\\nsamples = 1\\nvalue = [0, 0, 1, 0, 0, 0]'),\n",
              " Text(159.4040061633282, 108.72, 'gini = 0.0\\nsamples = 1\\nvalue = [0, 0, 0, 1, 0, 0]'),\n",
              " Text(160.43574730354393, 120.16421052631578, 'gini = 0.0\\nsamples = 3\\nvalue = [0, 0, 3, 0, 0, 0]'),\n",
              " Text(160.43574730354393, 143.05263157894737, 'gini = 0.0\\nsamples = 1\\nvalue = [0, 0, 0, 1, 0, 0]'),\n",
              " Text(251.29042878466876, 200.2736842105263, 'X[10] <= 11.55\\ngini = 0.641\\nsamples = 599\\nvalue = [2, 22, 119, 310, 134, 12]'),\n",
              " Text(197.15323815485365, 188.82947368421054, 'X[1] <= 0.375\\ngini = 0.622\\nsamples = 391\\nvalue = [2, 19, 104, 209, 54, 3]'),\n",
              " Text(175.46047765793531, 177.38526315789474, 'X[8] <= 3.265\\ngini = 0.662\\nsamples = 103\\nvalue = [0, 1, 22, 44, 34, 2]'),\n",
              " Text(168.43174114021573, 165.94105263157894, 'X[3] <= 3.4\\ngini = 0.6\\nsamples = 44\\nvalue = [0, 0, 5, 13, 24, 2]'),\n",
              " Text(167.40000000000003, 154.49684210526317, 'X[10] <= 10.55\\ngini = 0.571\\nsamples = 40\\nvalue = [0, 0, 5, 9, 24, 2]'),\n",
              " Text(162.49922958397536, 143.05263157894737, 'X[3] <= 1.5\\ngini = 0.531\\nsamples = 8\\nvalue = [0, 0, 2, 5, 1, 0]'),\n",
              " Text(161.46748844375966, 131.60842105263157, 'gini = 0.0\\nsamples = 1\\nvalue = [0, 0, 0, 0, 1, 0]'),\n",
              " Text(163.5309707241911, 131.60842105263157, 'X[9] <= 0.64\\ngini = 0.408\\nsamples = 7\\nvalue = [0, 0, 2, 5, 0, 0]'),\n",
              " Text(162.49922958397536, 120.16421052631578, 'X[7] <= 0.997\\ngini = 0.444\\nsamples = 3\\nvalue = [0, 0, 2, 1, 0, 0]'),\n",
              " Text(161.46748844375966, 108.72, 'gini = 0.0\\nsamples = 1\\nvalue = [0, 0, 0, 1, 0, 0]'),\n",
              " Text(163.5309707241911, 108.72, 'gini = 0.0\\nsamples = 2\\nvalue = [0, 0, 2, 0, 0, 0]'),\n",
              " Text(164.5627118644068, 120.16421052631578, 'gini = 0.0\\nsamples = 4\\nvalue = [0, 0, 0, 4, 0, 0]'),\n",
              " Text(172.30077041602468, 143.05263157894737, 'X[9] <= 0.71\\ngini = 0.455\\nsamples = 32\\nvalue = [0, 0, 3, 4, 23, 2]'),\n",
              " Text(168.68967642526965, 131.60842105263157, 'X[4] <= 0.094\\ngini = 0.72\\nsamples = 10\\nvalue = [0, 0, 2, 2, 4, 2]'),\n",
              " Text(167.65793528505395, 120.16421052631578, 'X[2] <= 0.405\\ngini = 0.625\\nsamples = 8\\nvalue = [0, 0, 2, 0, 4, 2]'),\n",
              " Text(165.59445300462252, 108.72, 'X[8] <= 3.215\\ngini = 0.32\\nsamples = 5\\nvalue = [0, 0, 0, 0, 4, 1]'),\n",
              " Text(164.5627118644068, 97.27578947368421, 'gini = 0.0\\nsamples = 4\\nvalue = [0, 0, 0, 0, 4, 0]'),\n",
              " Text(166.62619414483822, 97.27578947368421, 'gini = 0.0\\nsamples = 1\\nvalue = [0, 0, 0, 0, 0, 1]'),\n",
              " Text(169.72141756548538, 108.72, 'X[6] <= 17.0\\ngini = 0.444\\nsamples = 3\\nvalue = [0, 0, 2, 0, 0, 1]'),\n",
              " Text(168.68967642526965, 97.27578947368421, 'gini = 0.0\\nsamples = 1\\nvalue = [0, 0, 0, 0, 0, 1]'),\n",
              " Text(170.7531587057011, 97.27578947368421, 'gini = 0.0\\nsamples = 2\\nvalue = [0, 0, 2, 0, 0, 0]'),\n",
              " Text(169.72141756548538, 120.16421052631578, 'gini = 0.0\\nsamples = 2\\nvalue = [0, 0, 0, 2, 0, 0]'),\n",
              " Text(175.91186440677967, 131.60842105263157, 'X[9] <= 1.055\\ngini = 0.244\\nsamples = 22\\nvalue = [0, 0, 1, 2, 19, 0]'),\n",
              " Text(174.88012326656397, 120.16421052631578, 'X[10] <= 10.7\\ngini = 0.177\\nsamples = 21\\nvalue = [0, 0, 1, 1, 19, 0]'),\n",
              " Text(173.84838212634824, 108.72, 'X[6] <= 44.5\\ngini = 0.625\\nsamples = 4\\nvalue = [0, 0, 1, 1, 2, 0]'),\n",
              " Text(172.81664098613254, 97.27578947368421, 'X[3] <= 1.9\\ngini = 0.5\\nsamples = 2\\nvalue = [0, 0, 1, 1, 0, 0]'),\n",
              " Text(171.7848998459168, 85.83157894736843, 'gini = 0.0\\nsamples = 1\\nvalue = [0, 0, 0, 1, 0, 0]'),\n",
              " Text(173.84838212634824, 85.83157894736843, 'gini = 0.0\\nsamples = 1\\nvalue = [0, 0, 1, 0, 0, 0]'),\n",
              " Text(174.88012326656397, 97.27578947368421, 'gini = 0.0\\nsamples = 2\\nvalue = [0, 0, 0, 0, 2, 0]'),\n",
              " Text(175.91186440677967, 108.72, 'gini = 0.0\\nsamples = 17\\nvalue = [0, 0, 0, 0, 17, 0]'),\n",
              " Text(176.9436055469954, 120.16421052631578, 'gini = 0.0\\nsamples = 1\\nvalue = [0, 0, 0, 1, 0, 0]'),\n",
              " Text(169.46348228043146, 154.49684210526317, 'gini = 0.0\\nsamples = 4\\nvalue = [0, 0, 0, 4, 0, 0]'),\n",
              " Text(182.48921417565487, 165.94105263157894, 'X[4] <= 0.055\\ngini = 0.612\\nsamples = 59\\nvalue = [0, 1, 17, 31, 10, 0]'),\n",
              " Text(179.5229583975347, 154.49684210526317, 'X[3] <= 7.6\\ngini = 0.375\\nsamples = 4\\nvalue = [0, 1, 0, 0, 3, 0]'),\n",
              " Text(178.49121725731897, 143.05263157894737, 'gini = 0.0\\nsamples = 3\\nvalue = [0, 0, 0, 0, 3, 0]'),\n",
              " Text(180.5546995377504, 143.05263157894737, 'gini = 0.0\\nsamples = 1\\nvalue = [0, 1, 0, 0, 0, 0]'),\n",
              " Text(185.45546995377507, 154.49684210526317, 'X[4] <= 0.087\\ngini = 0.571\\nsamples = 55\\nvalue = [0, 0, 17, 31, 7, 0]'),\n",
              " Text(182.61818181818185, 143.05263157894737, 'X[7] <= 0.999\\ngini = 0.52\\nsamples = 42\\nvalue = [0, 0, 9, 27, 6, 0]'),\n",
              " Text(181.58644067796612, 131.60842105263157, 'X[8] <= 3.285\\ngini = 0.484\\nsamples = 40\\nvalue = [0, 0, 9, 27, 4, 0]'),\n",
              " Text(179.00708782742683, 120.16421052631578, 'X[2] <= 0.365\\ngini = 0.571\\nsamples = 7\\nvalue = [0, 0, 4, 2, 1, 0]'),\n",
              " Text(177.97534668721113, 108.72, 'X[2] <= 0.315\\ngini = 0.444\\nsamples = 3\\nvalue = [0, 0, 0, 2, 1, 0]'),\n",
              " Text(176.9436055469954, 97.27578947368421, 'gini = 0.0\\nsamples = 1\\nvalue = [0, 0, 0, 0, 1, 0]'),\n",
              " Text(179.00708782742683, 97.27578947368421, 'gini = 0.0\\nsamples = 2\\nvalue = [0, 0, 0, 2, 0, 0]'),\n",
              " Text(180.03882896764256, 108.72, 'gini = 0.0\\nsamples = 4\\nvalue = [0, 0, 4, 0, 0, 0]'),\n",
              " Text(184.16579352850542, 120.16421052631578, 'X[7] <= 0.996\\ngini = 0.395\\nsamples = 33\\nvalue = [0, 0, 5, 25, 3, 0]'),\n",
              " Text(183.1340523882897, 108.72, 'X[8] <= 3.355\\ngini = 0.571\\nsamples = 19\\nvalue = [0, 0, 5, 11, 3, 0]'),\n",
              " Text(181.07057010785826, 97.27578947368421, 'X[6] <= 10.5\\ngini = 0.165\\nsamples = 11\\nvalue = [0, 0, 0, 10, 1, 0]'),\n",
              " Text(180.03882896764256, 85.83157894736843, 'gini = 0.0\\nsamples = 1\\nvalue = [0, 0, 0, 0, 1, 0]'),\n",
              " Text(182.102311248074, 85.83157894736843, 'gini = 0.0\\nsamples = 10\\nvalue = [0, 0, 0, 10, 0, 0]'),\n",
              " Text(185.19753466872112, 97.27578947368421, 'X[7] <= 0.996\\ngini = 0.531\\nsamples = 8\\nvalue = [0, 0, 5, 1, 2, 0]'),\n",
              " Text(184.16579352850542, 85.83157894736843, 'X[6] <= 54.0\\ngini = 0.625\\nsamples = 4\\nvalue = [0, 0, 1, 1, 2, 0]'),\n",
              " Text(183.1340523882897, 74.38736842105263, 'gini = 0.0\\nsamples = 2\\nvalue = [0, 0, 0, 0, 2, 0]'),\n",
              " Text(185.19753466872112, 74.38736842105263, 'X[2] <= 0.46\\ngini = 0.5\\nsamples = 2\\nvalue = [0, 0, 1, 1, 0, 0]'),\n",
              " Text(184.16579352850542, 62.943157894736856, 'gini = 0.0\\nsamples = 1\\nvalue = [0, 0, 1, 0, 0, 0]'),\n",
              " Text(186.22927580893685, 62.943157894736856, 'gini = 0.0\\nsamples = 1\\nvalue = [0, 0, 0, 1, 0, 0]'),\n",
              " Text(186.22927580893685, 85.83157894736843, 'gini = 0.0\\nsamples = 4\\nvalue = [0, 0, 4, 0, 0, 0]'),\n",
              " Text(185.19753466872112, 108.72, 'gini = 0.0\\nsamples = 14\\nvalue = [0, 0, 0, 14, 0, 0]'),\n",
              " Text(183.64992295839755, 131.60842105263157, 'gini = 0.0\\nsamples = 2\\nvalue = [0, 0, 0, 0, 2, 0]'),\n",
              " Text(188.29275808936828, 143.05263157894737, 'X[9] <= 0.66\\ngini = 0.521\\nsamples = 13\\nvalue = [0, 0, 8, 4, 1, 0]'),\n",
              " Text(187.26101694915258, 131.60842105263157, 'gini = 0.0\\nsamples = 3\\nvalue = [0, 0, 0, 3, 0, 0]'),\n",
              " Text(189.324499229584, 131.60842105263157, 'X[3] <= 1.85\\ngini = 0.34\\nsamples = 10\\nvalue = [0, 0, 8, 1, 1, 0]'),\n",
              " Text(188.29275808936828, 120.16421052631578, 'X[10] <= 11.0\\ngini = 0.5\\nsamples = 2\\nvalue = [0, 0, 0, 1, 1, 0]'),\n",
              " Text(187.26101694915258, 108.72, 'gini = 0.0\\nsamples = 1\\nvalue = [0, 0, 0, 0, 1, 0]'),\n",
              " Text(189.324499229584, 108.72, 'gini = 0.0\\nsamples = 1\\nvalue = [0, 0, 0, 1, 0, 0]'),\n",
              " Text(190.3562403697997, 120.16421052631578, 'gini = 0.0\\nsamples = 8\\nvalue = [0, 0, 8, 0, 0, 0]'),\n",
              " Text(218.845998651772, 177.38526315789474, 'X[9] <= 0.505\\ngini = 0.582\\nsamples = 288\\nvalue = [2, 18, 82, 165, 20, 1]'),\n",
              " Text(198.0942989214176, 165.94105263157894, 'X[7] <= 0.995\\ngini = 0.584\\nsamples = 30\\nvalue = [2, 3, 18, 6, 1, 0]'),\n",
              " Text(194.4832049306626, 154.49684210526317, 'X[6] <= 32.0\\ngini = 0.722\\nsamples = 12\\nvalue = [1, 3, 2, 5, 1, 0]'),\n",
              " Text(192.41972265023114, 143.05263157894737, 'X[0] <= 6.95\\ngini = 0.72\\nsamples = 5\\nvalue = [1, 2, 1, 0, 1, 0]'),\n",
              " Text(191.38798151001544, 131.60842105263157, 'gini = 0.0\\nsamples = 2\\nvalue = [0, 2, 0, 0, 0, 0]'),\n",
              " Text(193.45146379044687, 131.60842105263157, 'X[6] <= 10.0\\ngini = 0.667\\nsamples = 3\\nvalue = [1, 0, 1, 0, 1, 0]'),\n",
              " Text(192.41972265023114, 120.16421052631578, 'gini = 0.0\\nsamples = 1\\nvalue = [1, 0, 0, 0, 0, 0]'),\n",
              " Text(194.4832049306626, 120.16421052631578, 'X[10] <= 11.35\\ngini = 0.5\\nsamples = 2\\nvalue = [0, 0, 1, 0, 1, 0]'),\n",
              " Text(193.45146379044687, 108.72, 'gini = 0.0\\nsamples = 1\\nvalue = [0, 0, 0, 0, 1, 0]'),\n",
              " Text(195.5149460708783, 108.72, 'gini = 0.0\\nsamples = 1\\nvalue = [0, 0, 1, 0, 0, 0]'),\n",
              " Text(196.54668721109402, 143.05263157894737, 'X[10] <= 10.525\\ngini = 0.449\\nsamples = 7\\nvalue = [0, 1, 1, 5, 0, 0]'),\n",
              " Text(195.5149460708783, 131.60842105263157, 'gini = 0.0\\nsamples = 1\\nvalue = [0, 1, 0, 0, 0, 0]'),\n",
              " Text(197.57842835130973, 131.60842105263157, 'X[3] <= 2.25\\ngini = 0.278\\nsamples = 6\\nvalue = [0, 0, 1, 5, 0, 0]'),\n",
              " Text(196.54668721109402, 120.16421052631578, 'gini = 0.0\\nsamples = 5\\nvalue = [0, 0, 0, 5, 0, 0]'),\n",
              " Text(198.61016949152545, 120.16421052631578, 'gini = 0.0\\nsamples = 1\\nvalue = [0, 0, 1, 0, 0, 0]'),\n",
              " Text(201.70539291217258, 154.49684210526317, 'X[3] <= 5.075\\ngini = 0.204\\nsamples = 18\\nvalue = [1, 0, 16, 1, 0, 0]'),\n",
              " Text(200.67365177195688, 143.05263157894737, 'X[7] <= 0.998\\ngini = 0.111\\nsamples = 17\\nvalue = [1, 0, 16, 0, 0, 0]'),\n",
              " Text(199.64191063174115, 131.60842105263157, 'gini = 0.0\\nsamples = 16\\nvalue = [0, 0, 16, 0, 0, 0]'),\n",
              " Text(201.70539291217258, 131.60842105263157, 'gini = 0.0\\nsamples = 1\\nvalue = [1, 0, 0, 0, 0, 0]'),\n",
              " Text(202.7371340523883, 143.05263157894737, 'gini = 0.0\\nsamples = 1\\nvalue = [0, 0, 0, 1, 0, 0]'),\n",
              " Text(239.59769838212637, 165.94105263157894, 'X[6] <= 100.5\\ngini = 0.55\\nsamples = 258\\nvalue = [0, 15, 64, 159, 19, 1]'),\n",
              " Text(238.56595724191067, 154.49684210526317, 'X[5] <= 12.5\\ngini = 0.54\\nsamples = 252\\nvalue = [0, 15, 58, 159, 19, 1]'),\n",
              " Text(219.79310477657938, 143.05263157894737, 'X[1] <= 0.825\\ngini = 0.643\\nsamples = 109\\nvalue = [0, 11, 33, 54, 11, 0]'),\n",
              " Text(212.47419106317415, 131.60842105263157, 'X[9] <= 0.615\\ngini = 0.62\\nsamples = 102\\nvalue = [0, 6, 33, 52, 11, 0]'),\n",
              " Text(200.9315870570108, 120.16421052631578, 'X[2] <= 0.065\\ngini = 0.677\\nsamples = 41\\nvalue = [0, 5, 18, 13, 5, 0]'),\n",
              " Text(197.57842835130973, 108.72, 'X[5] <= 8.5\\ngini = 0.645\\nsamples = 11\\nvalue = [0, 1, 4, 1, 5, 0]'),\n",
              " Text(196.54668721109402, 97.27578947368421, 'X[1] <= 0.575\\ngini = 0.5\\nsamples = 6\\nvalue = [0, 1, 4, 1, 0, 0]'),\n",
              " Text(195.5149460708783, 85.83157894736843, 'X[6] <= 11.5\\ngini = 0.5\\nsamples = 2\\nvalue = [0, 1, 0, 1, 0, 0]'),\n",
              " Text(194.4832049306626, 74.38736842105263, 'gini = 0.0\\nsamples = 1\\nvalue = [0, 0, 0, 1, 0, 0]'),\n",
              " Text(196.54668721109402, 74.38736842105263, 'gini = 0.0\\nsamples = 1\\nvalue = [0, 1, 0, 0, 0, 0]'),\n",
              " Text(197.57842835130973, 85.83157894736843, 'gini = 0.0\\nsamples = 4\\nvalue = [0, 0, 4, 0, 0, 0]'),\n",
              " Text(198.61016949152545, 97.27578947368421, 'gini = 0.0\\nsamples = 5\\nvalue = [0, 0, 0, 0, 5, 0]'),\n",
              " Text(204.28474576271188, 108.72, 'X[4] <= 0.08\\ngini = 0.604\\nsamples = 30\\nvalue = [0, 4, 14, 12, 0, 0]'),\n",
              " Text(200.67365177195688, 97.27578947368421, 'X[8] <= 3.105\\ngini = 0.449\\nsamples = 14\\nvalue = [0, 2, 10, 2, 0, 0]'),\n",
              " Text(199.64191063174115, 85.83157894736843, 'gini = 0.0\\nsamples = 1\\nvalue = [0, 1, 0, 0, 0, 0]'),\n",
              " Text(201.70539291217258, 85.83157894736843, 'X[4] <= 0.06\\ngini = 0.379\\nsamples = 13\\nvalue = [0, 1, 10, 2, 0, 0]'),\n",
              " Text(200.67365177195688, 74.38736842105263, 'gini = 0.0\\nsamples = 1\\nvalue = [0, 1, 0, 0, 0, 0]'),\n",
              " Text(202.7371340523883, 74.38736842105263, 'X[1] <= 0.742\\ngini = 0.278\\nsamples = 12\\nvalue = [0, 0, 10, 2, 0, 0]'),\n",
              " Text(201.70539291217258, 62.943157894736856, 'X[5] <= 7.5\\ngini = 0.165\\nsamples = 11\\nvalue = [0, 0, 10, 1, 0, 0]'),\n",
              " Text(200.67365177195688, 51.49894736842106, 'gini = 0.0\\nsamples = 8\\nvalue = [0, 0, 8, 0, 0, 0]'),\n",
              " Text(202.7371340523883, 51.49894736842106, 'X[6] <= 22.5\\ngini = 0.444\\nsamples = 3\\nvalue = [0, 0, 2, 1, 0, 0]'),\n",
              " Text(201.70539291217258, 40.05473684210526, 'gini = 0.0\\nsamples = 1\\nvalue = [0, 0, 0, 1, 0, 0]'),\n",
              " Text(203.76887519260404, 40.05473684210526, 'gini = 0.0\\nsamples = 2\\nvalue = [0, 0, 2, 0, 0, 0]'),\n",
              " Text(203.76887519260404, 62.943157894736856, 'gini = 0.0\\nsamples = 1\\nvalue = [0, 0, 0, 1, 0, 0]'),\n",
              " Text(207.8958397534669, 97.27578947368421, 'X[4] <= 0.092\\ngini = 0.531\\nsamples = 16\\nvalue = [0, 2, 4, 10, 0, 0]'),\n",
              " Text(206.86409861325117, 85.83157894736843, 'gini = 0.0\\nsamples = 6\\nvalue = [0, 0, 0, 6, 0, 0]'),\n",
              " Text(208.9275808936826, 85.83157894736843, 'X[6] <= 17.0\\ngini = 0.64\\nsamples = 10\\nvalue = [0, 2, 4, 4, 0, 0]'),\n",
              " Text(206.86409861325117, 74.38736842105263, 'X[0] <= 7.35\\ngini = 0.48\\nsamples = 5\\nvalue = [0, 2, 0, 3, 0, 0]'),\n",
              " Text(205.83235747303547, 62.943157894736856, 'gini = 0.0\\nsamples = 2\\nvalue = [0, 2, 0, 0, 0, 0]'),\n",
              " Text(207.8958397534669, 62.943157894736856, 'gini = 0.0\\nsamples = 3\\nvalue = [0, 0, 0, 3, 0, 0]'),\n",
              " Text(210.99106317411406, 74.38736842105263, 'X[2] <= 0.185\\ngini = 0.32\\nsamples = 5\\nvalue = [0, 0, 4, 1, 0, 0]'),\n",
              " Text(209.95932203389833, 62.943157894736856, 'gini = 0.0\\nsamples = 1\\nvalue = [0, 0, 0, 1, 0, 0]'),\n",
              " Text(212.02280431432976, 62.943157894736856, 'gini = 0.0\\nsamples = 4\\nvalue = [0, 0, 4, 0, 0, 0]'),\n",
              " Text(224.01679506933746, 120.16421052631578, 'X[4] <= 0.086\\ngini = 0.521\\nsamples = 61\\nvalue = [0, 1, 15, 39, 6, 0]'),\n",
              " Text(217.18151001540835, 108.72, 'X[9] <= 0.77\\ngini = 0.342\\nsamples = 39\\nvalue = [0, 0, 6, 31, 2, 0]'),\n",
              " Text(215.11802773497692, 97.27578947368421, 'X[8] <= 3.61\\ngini = 0.184\\nsamples = 30\\nvalue = [0, 0, 2, 27, 1, 0]'),\n",
              " Text(214.0862865947612, 85.83157894736843, 'X[6] <= 8.0\\ngini = 0.131\\nsamples = 29\\nvalue = [0, 0, 1, 27, 1, 0]'),\n",
              " Text(213.0545454545455, 74.38736842105263, 'gini = 0.0\\nsamples = 1\\nvalue = [0, 0, 1, 0, 0, 0]'),\n",
              " Text(215.11802773497692, 74.38736842105263, 'X[3] <= 2.75\\ngini = 0.069\\nsamples = 28\\nvalue = [0, 0, 0, 27, 1, 0]'),\n",
              " Text(214.0862865947612, 62.943157894736856, 'gini = 0.0\\nsamples = 23\\nvalue = [0, 0, 0, 23, 0, 0]'),\n",
              " Text(216.14976887519262, 62.943157894736856, 'X[1] <= 0.49\\ngini = 0.32\\nsamples = 5\\nvalue = [0, 0, 0, 4, 1, 0]'),\n",
              " Text(215.11802773497692, 51.49894736842106, 'X[5] <= 8.0\\ngini = 0.5\\nsamples = 2\\nvalue = [0, 0, 0, 1, 1, 0]'),\n",
              " Text(214.0862865947612, 40.05473684210526, 'gini = 0.0\\nsamples = 1\\nvalue = [0, 0, 0, 1, 0, 0]'),\n",
              " Text(216.14976887519262, 40.05473684210526, 'gini = 0.0\\nsamples = 1\\nvalue = [0, 0, 0, 0, 1, 0]'),\n",
              " Text(217.18151001540835, 51.49894736842106, 'gini = 0.0\\nsamples = 3\\nvalue = [0, 0, 0, 3, 0, 0]'),\n",
              " Text(216.14976887519262, 85.83157894736843, 'gini = 0.0\\nsamples = 1\\nvalue = [0, 0, 1, 0, 0, 0]'),\n",
              " Text(219.24499229583978, 97.27578947368421, 'X[5] <= 8.5\\ngini = 0.593\\nsamples = 9\\nvalue = [0, 0, 4, 4, 1, 0]'),\n",
              " Text(218.21325115562405, 85.83157894736843, 'X[4] <= 0.065\\ngini = 0.5\\nsamples = 6\\nvalue = [0, 0, 1, 4, 1, 0]'),\n",
              " Text(217.18151001540835, 74.38736842105263, 'gini = 0.0\\nsamples = 1\\nvalue = [0, 0, 1, 0, 0, 0]'),\n",
              " Text(219.24499229583978, 74.38736842105263, 'X[7] <= 0.996\\ngini = 0.32\\nsamples = 5\\nvalue = [0, 0, 0, 4, 1, 0]'),\n",
              " Text(218.21325115562405, 62.943157894736856, 'gini = 0.0\\nsamples = 1\\nvalue = [0, 0, 0, 0, 1, 0]'),\n",
              " Text(220.2767334360555, 62.943157894736856, 'gini = 0.0\\nsamples = 4\\nvalue = [0, 0, 0, 4, 0, 0]'),\n",
              " Text(220.2767334360555, 85.83157894736843, 'gini = 0.0\\nsamples = 3\\nvalue = [0, 0, 3, 0, 0, 0]'),\n",
              " Text(230.8520801232666, 108.72, 'X[2] <= 0.65\\ngini = 0.665\\nsamples = 22\\nvalue = [0, 1, 9, 8, 4, 0]'),\n",
              " Text(228.01479198767336, 97.27578947368421, 'X[5] <= 8.5\\ngini = 0.599\\nsamples = 18\\nvalue = [0, 1, 8, 8, 1, 0]'),\n",
              " Text(225.43543913713407, 85.83157894736843, 'X[6] <= 13.5\\ngini = 0.46\\nsamples = 10\\nvalue = [0, 1, 2, 7, 0, 0]'),\n",
              " Text(223.37195685670264, 74.38736842105263, 'X[0] <= 8.4\\ngini = 0.5\\nsamples = 2\\nvalue = [0, 1, 1, 0, 0, 0]'),\n",
              " Text(222.34021571648694, 62.943157894736856, 'gini = 0.0\\nsamples = 1\\nvalue = [0, 1, 0, 0, 0, 0]'),\n",
              " Text(224.40369799691837, 62.943157894736856, 'gini = 0.0\\nsamples = 1\\nvalue = [0, 0, 1, 0, 0, 0]'),\n",
              " Text(227.49892141756553, 74.38736842105263, 'X[4] <= 0.124\\ngini = 0.219\\nsamples = 8\\nvalue = [0, 0, 1, 7, 0, 0]'),\n",
              " Text(226.4671802773498, 62.943157894736856, 'gini = 0.0\\nsamples = 5\\nvalue = [0, 0, 0, 5, 0, 0]'),\n",
              " Text(228.53066255778123, 62.943157894736856, 'X[10] <= 10.95\\ngini = 0.444\\nsamples = 3\\nvalue = [0, 0, 1, 2, 0, 0]'),\n",
              " Text(227.49892141756553, 51.49894736842106, 'gini = 0.0\\nsamples = 2\\nvalue = [0, 0, 0, 2, 0, 0]'),\n",
              " Text(229.56240369799696, 51.49894736842106, 'gini = 0.0\\nsamples = 1\\nvalue = [0, 0, 1, 0, 0, 0]'),\n",
              " Text(230.59414483821266, 85.83157894736843, 'X[3] <= 4.65\\ngini = 0.406\\nsamples = 8\\nvalue = [0, 0, 6, 1, 1, 0]'),\n",
              " Text(229.56240369799696, 74.38736842105263, 'gini = 0.0\\nsamples = 6\\nvalue = [0, 0, 6, 0, 0, 0]'),\n",
              " Text(231.62588597842839, 74.38736842105263, 'X[1] <= 0.565\\ngini = 0.5\\nsamples = 2\\nvalue = [0, 0, 0, 1, 1, 0]'),\n",
              " Text(230.59414483821266, 62.943157894736856, 'gini = 0.0\\nsamples = 1\\nvalue = [0, 0, 0, 0, 1, 0]'),\n",
              " Text(232.6576271186441, 62.943157894736856, 'gini = 0.0\\nsamples = 1\\nvalue = [0, 0, 0, 1, 0, 0]'),\n",
              " Text(233.68936825885982, 97.27578947368421, 'X[0] <= 11.4\\ngini = 0.375\\nsamples = 4\\nvalue = [0, 0, 1, 0, 3, 0]'),\n",
              " Text(232.6576271186441, 85.83157894736843, 'gini = 0.0\\nsamples = 1\\nvalue = [0, 0, 1, 0, 0, 0]'),\n",
              " Text(234.72110939907552, 85.83157894736843, 'gini = 0.0\\nsamples = 3\\nvalue = [0, 0, 0, 0, 3, 0]'),\n",
              " Text(227.11201848998462, 131.60842105263157, 'X[0] <= 6.7\\ngini = 0.408\\nsamples = 7\\nvalue = [0, 5, 0, 2, 0, 0]'),\n",
              " Text(226.0802773497689, 120.16421052631578, 'gini = 0.0\\nsamples = 2\\nvalue = [0, 0, 0, 2, 0, 0]'),\n",
              " Text(228.14375963020035, 120.16421052631578, 'gini = 0.0\\nsamples = 5\\nvalue = [0, 5, 0, 0, 0, 0]'),\n",
              " Text(257.3388097072419, 143.05263157894737, 'X[1] <= 0.885\\ngini = 0.426\\nsamples = 143\\nvalue = [0, 4, 25, 105, 8, 1]'),\n",
              " Text(251.58362865947615, 131.60842105263157, 'X[2] <= 0.16\\ngini = 0.394\\nsamples = 137\\nvalue = [0, 2, 22, 104, 8, 1]'),\n",
              " Text(245.48990755007708, 120.16421052631578, 'X[7] <= 0.997\\ngini = 0.254\\nsamples = 71\\nvalue = [0, 1, 5, 61, 4, 0]'),\n",
              " Text(240.78258859784287, 108.72, 'X[9] <= 0.535\\ngini = 0.177\\nsamples = 62\\nvalue = [0, 0, 5, 56, 1, 0]'),\n",
              " Text(237.81633281972267, 97.27578947368421, 'X[8] <= 3.39\\ngini = 0.48\\nsamples = 5\\nvalue = [0, 0, 2, 3, 0, 0]'),\n",
              " Text(236.78459167950697, 85.83157894736843, 'gini = 0.0\\nsamples = 3\\nvalue = [0, 0, 0, 3, 0, 0]'),\n",
              " Text(238.8480739599384, 85.83157894736843, 'gini = 0.0\\nsamples = 2\\nvalue = [0, 0, 2, 0, 0, 0]'),\n",
              " Text(243.74884437596305, 97.27578947368421, 'X[3] <= 1.6\\ngini = 0.132\\nsamples = 57\\nvalue = [0, 0, 3, 53, 1, 0]'),\n",
              " Text(240.91155624036983, 85.83157894736843, 'X[5] <= 34.0\\ngini = 0.5\\nsamples = 2\\nvalue = [0, 0, 1, 1, 0, 0]'),\n",
              " Text(239.8798151001541, 74.38736842105263, 'gini = 0.0\\nsamples = 1\\nvalue = [0, 0, 0, 1, 0, 0]'),\n",
              " Text(241.94329738058553, 74.38736842105263, 'gini = 0.0\\nsamples = 1\\nvalue = [0, 0, 1, 0, 0, 0]'),\n",
              " Text(246.58613251155626, 85.83157894736843, 'X[4] <= 0.12\\ngini = 0.104\\nsamples = 55\\nvalue = [0, 0, 2, 52, 1, 0]'),\n",
              " Text(244.006779661017, 74.38736842105263, 'X[0] <= 7.7\\ngini = 0.074\\nsamples = 52\\nvalue = [0, 0, 2, 50, 0, 0]'),\n",
              " Text(241.94329738058553, 62.943157894736856, 'X[5] <= 31.5\\ngini = 0.042\\nsamples = 47\\nvalue = [0, 0, 1, 46, 0, 0]'),\n",
              " Text(240.91155624036983, 51.49894736842106, 'gini = 0.0\\nsamples = 40\\nvalue = [0, 0, 0, 40, 0, 0]'),\n",
              " Text(242.97503852080126, 51.49894736842106, 'X[7] <= 0.995\\ngini = 0.245\\nsamples = 7\\nvalue = [0, 0, 1, 6, 0, 0]'),\n",
              " Text(241.94329738058553, 40.05473684210526, 'gini = 0.0\\nsamples = 1\\nvalue = [0, 0, 1, 0, 0, 0]'),\n",
              " Text(244.006779661017, 40.05473684210526, 'gini = 0.0\\nsamples = 6\\nvalue = [0, 0, 0, 6, 0, 0]'),\n",
              " Text(246.07026194144842, 62.943157894736856, 'X[8] <= 3.38\\ngini = 0.32\\nsamples = 5\\nvalue = [0, 0, 1, 4, 0, 0]'),\n",
              " Text(245.0385208012327, 51.49894736842106, 'gini = 0.0\\nsamples = 4\\nvalue = [0, 0, 0, 4, 0, 0]'),\n",
              " Text(247.10200308166412, 51.49894736842106, 'gini = 0.0\\nsamples = 1\\nvalue = [0, 0, 1, 0, 0, 0]'),\n",
              " Text(249.16548536209555, 74.38736842105263, 'X[6] <= 34.5\\ngini = 0.444\\nsamples = 3\\nvalue = [0, 0, 0, 2, 1, 0]'),\n",
              " Text(248.13374422187985, 62.943157894736856, 'gini = 0.0\\nsamples = 2\\nvalue = [0, 0, 0, 2, 0, 0]'),\n",
              " Text(250.19722650231128, 62.943157894736856, 'gini = 0.0\\nsamples = 1\\nvalue = [0, 0, 0, 0, 1, 0]'),\n",
              " Text(250.19722650231128, 108.72, 'X[10] <= 10.5\\ngini = 0.568\\nsamples = 9\\nvalue = [0, 1, 0, 5, 3, 0]'),\n",
              " Text(249.16548536209555, 97.27578947368421, 'gini = 0.0\\nsamples = 4\\nvalue = [0, 0, 0, 4, 0, 0]'),\n",
              " Text(251.22896764252698, 97.27578947368421, 'X[3] <= 2.65\\ngini = 0.56\\nsamples = 5\\nvalue = [0, 1, 0, 1, 3, 0]'),\n",
              " Text(250.19722650231128, 85.83157894736843, 'gini = 0.0\\nsamples = 3\\nvalue = [0, 0, 0, 0, 3, 0]'),\n",
              " Text(252.2607087827427, 85.83157894736843, 'X[6] <= 40.0\\ngini = 0.5\\nsamples = 2\\nvalue = [0, 1, 0, 1, 0, 0]'),\n",
              " Text(251.22896764252698, 74.38736842105263, 'gini = 0.0\\nsamples = 1\\nvalue = [0, 1, 0, 0, 0, 0]'),\n",
              " Text(253.29244992295844, 74.38736842105263, 'gini = 0.0\\nsamples = 1\\nvalue = [0, 0, 0, 1, 0, 0]'),\n",
              " Text(257.6773497688752, 120.16421052631578, 'X[2] <= 0.195\\ngini = 0.505\\nsamples = 66\\nvalue = [0, 1, 17, 43, 4, 1]'),\n",
              " Text(254.32419106317414, 108.72, 'X[1] <= 0.555\\ngini = 0.278\\nsamples = 6\\nvalue = [0, 0, 5, 0, 1, 0]'),\n",
              " Text(253.29244992295844, 97.27578947368421, 'gini = 0.0\\nsamples = 5\\nvalue = [0, 0, 5, 0, 0, 0]'),\n",
              " Text(255.35593220338987, 97.27578947368421, 'gini = 0.0\\nsamples = 1\\nvalue = [0, 0, 0, 0, 1, 0]'),\n",
              " Text(261.0305084745763, 108.72, 'X[10] <= 10.45\\ngini = 0.443\\nsamples = 60\\nvalue = [0, 1, 12, 43, 3, 1]'),\n",
              " Text(257.4194144838213, 97.27578947368421, 'X[1] <= 0.435\\ngini = 0.579\\nsamples = 11\\nvalue = [0, 1, 5, 5, 0, 0]'),\n",
              " Text(256.38767334360557, 85.83157894736843, 'gini = 0.0\\nsamples = 4\\nvalue = [0, 0, 4, 0, 0, 0]'),\n",
              " Text(258.451155624037, 85.83157894736843, 'X[6] <= 54.5\\ngini = 0.449\\nsamples = 7\\nvalue = [0, 1, 1, 5, 0, 0]'),\n",
              " Text(257.4194144838213, 74.38736842105263, 'gini = 0.0\\nsamples = 5\\nvalue = [0, 0, 0, 5, 0, 0]'),\n",
              " Text(259.4828967642527, 74.38736842105263, 'X[9] <= 0.585\\ngini = 0.5\\nsamples = 2\\nvalue = [0, 1, 1, 0, 0, 0]'),\n",
              " Text(258.451155624037, 62.943157894736856, 'gini = 0.0\\nsamples = 1\\nvalue = [0, 1, 0, 0, 0, 0]'),\n",
              " Text(260.51463790446843, 62.943157894736856, 'gini = 0.0\\nsamples = 1\\nvalue = [0, 0, 1, 0, 0, 0]'),\n",
              " Text(264.6416024653313, 97.27578947368421, 'X[3] <= 3.1\\ngini = 0.374\\nsamples = 49\\nvalue = [0, 0, 7, 38, 3, 1]'),\n",
              " Text(262.5781201848999, 85.83157894736843, 'X[0] <= 6.45\\ngini = 0.329\\nsamples = 46\\nvalue = [0, 0, 7, 37, 1, 1]'),\n",
              " Text(261.54637904468416, 74.38736842105263, 'gini = 0.0\\nsamples = 1\\nvalue = [0, 0, 0, 0, 1, 0]'),\n",
              " Text(263.6098613251156, 74.38736842105263, 'X[8] <= 3.265\\ngini = 0.299\\nsamples = 45\\nvalue = [0, 0, 7, 37, 0, 1]'),\n",
              " Text(262.5781201848999, 62.943157894736856, 'X[8] <= 3.235\\ngini = 0.447\\nsamples = 26\\nvalue = [0, 0, 7, 18, 0, 1]'),\n",
              " Text(259.9987673343606, 51.49894736842106, 'X[1] <= 0.385\\ngini = 0.368\\nsamples = 22\\nvalue = [0, 0, 4, 17, 0, 1]'),\n",
              " Text(257.93528505392914, 40.05473684210526, 'X[10] <= 10.9\\ngini = 0.5\\nsamples = 2\\nvalue = [0, 0, 1, 0, 0, 1]'),\n",
              " Text(256.90354391371346, 28.610526315789485, 'gini = 0.0\\nsamples = 1\\nvalue = [0, 0, 1, 0, 0, 0]'),\n",
              " Text(258.96702619414486, 28.610526315789485, 'gini = 0.0\\nsamples = 1\\nvalue = [0, 0, 0, 0, 0, 1]'),\n",
              " Text(262.062249614792, 40.05473684210526, 'X[9] <= 0.59\\ngini = 0.255\\nsamples = 20\\nvalue = [0, 0, 3, 17, 0, 0]'),\n",
              " Text(261.0305084745763, 28.610526315789485, 'gini = 0.0\\nsamples = 1\\nvalue = [0, 0, 1, 0, 0, 0]'),\n",
              " Text(263.0939907550077, 28.610526315789485, 'X[2] <= 0.365\\ngini = 0.188\\nsamples = 19\\nvalue = [0, 0, 2, 17, 0, 0]'),\n",
              " Text(262.062249614792, 17.166315789473686, 'X[8] <= 3.17\\ngini = 0.48\\nsamples = 5\\nvalue = [0, 0, 2, 3, 0, 0]'),\n",
              " Text(261.0305084745763, 5.722105263157886, 'gini = 0.0\\nsamples = 3\\nvalue = [0, 0, 0, 3, 0, 0]'),\n",
              " Text(263.0939907550077, 5.722105263157886, 'gini = 0.0\\nsamples = 2\\nvalue = [0, 0, 2, 0, 0, 0]'),\n",
              " Text(264.12573189522345, 17.166315789473686, 'gini = 0.0\\nsamples = 14\\nvalue = [0, 0, 0, 14, 0, 0]'),\n",
              " Text(265.1574730354392, 51.49894736842106, 'X[9] <= 0.995\\ngini = 0.375\\nsamples = 4\\nvalue = [0, 0, 3, 1, 0, 0]'),\n",
              " Text(264.12573189522345, 40.05473684210526, 'gini = 0.0\\nsamples = 3\\nvalue = [0, 0, 3, 0, 0, 0]'),\n",
              " Text(266.1892141756549, 40.05473684210526, 'gini = 0.0\\nsamples = 1\\nvalue = [0, 0, 0, 1, 0, 0]'),\n",
              " Text(264.6416024653313, 62.943157894736856, 'gini = 0.0\\nsamples = 19\\nvalue = [0, 0, 0, 19, 0, 0]'),\n",
              " Text(266.70508474576275, 85.83157894736843, 'X[10] <= 10.7\\ngini = 0.444\\nsamples = 3\\nvalue = [0, 0, 0, 1, 2, 0]'),\n",
              " Text(265.673343605547, 74.38736842105263, 'gini = 0.0\\nsamples = 1\\nvalue = [0, 0, 0, 1, 0, 0]'),\n",
              " Text(267.7368258859785, 74.38736842105263, 'gini = 0.0\\nsamples = 2\\nvalue = [0, 0, 0, 0, 2, 0]'),\n",
              " Text(263.0939907550077, 131.60842105263157, 'X[6] <= 35.5\\ngini = 0.611\\nsamples = 6\\nvalue = [0, 2, 3, 1, 0, 0]'),\n",
              " Text(262.062249614792, 120.16421052631578, 'gini = 0.0\\nsamples = 2\\nvalue = [0, 2, 0, 0, 0, 0]'),\n",
              " Text(264.12573189522345, 120.16421052631578, 'X[2] <= 0.475\\ngini = 0.375\\nsamples = 4\\nvalue = [0, 0, 3, 1, 0, 0]'),\n",
              " Text(263.0939907550077, 108.72, 'gini = 0.0\\nsamples = 3\\nvalue = [0, 0, 3, 0, 0, 0]'),\n",
              " Text(265.1574730354392, 108.72, 'gini = 0.0\\nsamples = 1\\nvalue = [0, 0, 0, 1, 0, 0]'),\n",
              " Text(240.6294395223421, 154.49684210526317, 'gini = 0.0\\nsamples = 6\\nvalue = [0, 0, 6, 0, 0, 0]'),\n",
              " Text(305.42761941448384, 188.82947368421054, 'X[9] <= 0.685\\ngini = 0.609\\nsamples = 208\\nvalue = [0, 3, 15, 101, 80, 9]'),\n",
              " Text(289.85477657935286, 177.38526315789474, 'X[3] <= 4.65\\ngini = 0.544\\nsamples = 114\\nvalue = [0, 3, 12, 71, 27, 1]'),\n",
              " Text(279.9887519260401, 165.94105263157894, 'X[6] <= 15.5\\ngini = 0.511\\nsamples = 106\\nvalue = [0, 2, 12, 70, 21, 1]'),\n",
              " Text(270.31617873651777, 154.49684210526317, 'X[9] <= 0.575\\ngini = 0.568\\nsamples = 26\\nvalue = [0, 0, 2, 12, 12, 0]'),\n",
              " Text(268.2526964560863, 143.05263157894737, 'X[7] <= 0.994\\ngini = 0.379\\nsamples = 13\\nvalue = [0, 0, 1, 10, 2, 0]'),\n",
              " Text(267.2209553158706, 131.60842105263157, 'X[10] <= 12.85\\ngini = 0.64\\nsamples = 5\\nvalue = [0, 0, 1, 2, 2, 0]'),\n",
              " Text(266.1892141756549, 120.16421052631578, 'gini = 0.0\\nsamples = 2\\nvalue = [0, 0, 0, 0, 2, 0]'),\n",
              " Text(268.2526964560863, 120.16421052631578, 'X[9] <= 0.45\\ngini = 0.444\\nsamples = 3\\nvalue = [0, 0, 1, 2, 0, 0]'),\n",
              " Text(267.2209553158706, 108.72, 'gini = 0.0\\nsamples = 1\\nvalue = [0, 0, 1, 0, 0, 0]'),\n",
              " Text(269.28443759630204, 108.72, 'gini = 0.0\\nsamples = 2\\nvalue = [0, 0, 0, 2, 0, 0]'),\n",
              " Text(269.28443759630204, 131.60842105263157, 'gini = 0.0\\nsamples = 8\\nvalue = [0, 0, 0, 8, 0, 0]'),\n",
              " Text(272.37966101694917, 143.05263157894737, 'X[4] <= 0.083\\ngini = 0.379\\nsamples = 13\\nvalue = [0, 0, 1, 2, 10, 0]'),\n",
              " Text(271.34791987673344, 131.60842105263157, 'X[6] <= 11.5\\ngini = 0.444\\nsamples = 3\\nvalue = [0, 0, 1, 2, 0, 0]'),\n",
              " Text(270.31617873651777, 120.16421052631578, 'gini = 0.0\\nsamples = 2\\nvalue = [0, 0, 0, 2, 0, 0]'),\n",
              " Text(272.37966101694917, 120.16421052631578, 'gini = 0.0\\nsamples = 1\\nvalue = [0, 0, 1, 0, 0, 0]'),\n",
              " Text(273.4114021571649, 131.60842105263157, 'gini = 0.0\\nsamples = 10\\nvalue = [0, 0, 0, 0, 10, 0]'),\n",
              " Text(289.6613251155624, 154.49684210526317, 'X[0] <= 6.85\\ngini = 0.445\\nsamples = 80\\nvalue = [0, 2, 10, 58, 9, 1]'),\n",
              " Text(283.7288135593221, 143.05263157894737, 'X[5] <= 30.5\\ngini = 0.594\\nsamples = 40\\nvalue = [0, 2, 9, 23, 6, 0]'),\n",
              " Text(279.6018489984592, 131.60842105263157, 'X[6] <= 27.5\\ngini = 0.532\\nsamples = 35\\nvalue = [0, 2, 9, 22, 2, 0]'),\n",
              " Text(274.44314329738063, 120.16421052631578, 'X[2] <= 0.025\\ngini = 0.562\\nsamples = 11\\nvalue = [0, 1, 6, 4, 0, 0]'),\n",
              " Text(272.37966101694917, 108.72, 'X[3] <= 3.05\\ngini = 0.444\\nsamples = 3\\nvalue = [0, 1, 0, 2, 0, 0]'),\n",
              " Text(271.34791987673344, 97.27578947368421, 'gini = 0.0\\nsamples = 2\\nvalue = [0, 0, 0, 2, 0, 0]'),\n",
              " Text(273.4114021571649, 97.27578947368421, 'gini = 0.0\\nsamples = 1\\nvalue = [0, 1, 0, 0, 0, 0]'),\n",
              " Text(276.50662557781203, 108.72, 'X[9] <= 0.555\\ngini = 0.375\\nsamples = 8\\nvalue = [0, 0, 6, 2, 0, 0]'),\n",
              " Text(275.47488443759636, 97.27578947368421, 'gini = 0.0\\nsamples = 5\\nvalue = [0, 0, 5, 0, 0, 0]'),\n",
              " Text(277.53836671802776, 97.27578947368421, 'X[7] <= 0.995\\ngini = 0.444\\nsamples = 3\\nvalue = [0, 0, 1, 2, 0, 0]'),\n",
              " Text(276.50662557781203, 85.83157894736843, 'gini = 0.0\\nsamples = 2\\nvalue = [0, 0, 0, 2, 0, 0]'),\n",
              " Text(278.5701078582435, 85.83157894736843, 'gini = 0.0\\nsamples = 1\\nvalue = [0, 0, 1, 0, 0, 0]'),\n",
              " Text(284.7605546995378, 120.16421052631578, 'X[10] <= 12.95\\ngini = 0.413\\nsamples = 24\\nvalue = [0, 1, 3, 18, 2, 0]'),\n",
              " Text(282.69707241910635, 108.72, 'X[8] <= 3.55\\ngini = 0.265\\nsamples = 20\\nvalue = [0, 0, 1, 17, 2, 0]'),\n",
              " Text(281.6653312788906, 97.27578947368421, 'X[3] <= 2.45\\ngini = 0.571\\nsamples = 7\\nvalue = [0, 0, 1, 4, 2, 0]'),\n",
              " Text(280.6335901386749, 85.83157894736843, 'X[10] <= 12.25\\ngini = 0.625\\nsamples = 4\\nvalue = [0, 0, 1, 1, 2, 0]'),\n",
              " Text(279.6018489984592, 74.38736842105263, 'gini = 0.0\\nsamples = 2\\nvalue = [0, 0, 0, 0, 2, 0]'),\n",
              " Text(281.6653312788906, 74.38736842105263, 'X[9] <= 0.575\\ngini = 0.5\\nsamples = 2\\nvalue = [0, 0, 1, 1, 0, 0]'),\n",
              " Text(280.6335901386749, 62.943157894736856, 'gini = 0.0\\nsamples = 1\\nvalue = [0, 0, 0, 1, 0, 0]'),\n",
              " Text(282.69707241910635, 62.943157894736856, 'gini = 0.0\\nsamples = 1\\nvalue = [0, 0, 1, 0, 0, 0]'),\n",
              " Text(282.69707241910635, 85.83157894736843, 'gini = 0.0\\nsamples = 3\\nvalue = [0, 0, 0, 3, 0, 0]'),\n",
              " Text(283.7288135593221, 97.27578947368421, 'gini = 0.0\\nsamples = 13\\nvalue = [0, 0, 0, 13, 0, 0]'),\n",
              " Text(286.8240369799692, 108.72, 'X[2] <= 0.12\\ngini = 0.625\\nsamples = 4\\nvalue = [0, 1, 2, 1, 0, 0]'),\n",
              " Text(285.7922958397535, 97.27578947368421, 'gini = 0.0\\nsamples = 2\\nvalue = [0, 0, 2, 0, 0, 0]'),\n",
              " Text(287.85577812018494, 97.27578947368421, 'X[1] <= 0.46\\ngini = 0.5\\nsamples = 2\\nvalue = [0, 1, 0, 1, 0, 0]'),\n",
              " Text(286.8240369799692, 85.83157894736843, 'gini = 0.0\\nsamples = 1\\nvalue = [0, 0, 0, 1, 0, 0]'),\n",
              " Text(288.88751926040067, 85.83157894736843, 'gini = 0.0\\nsamples = 1\\nvalue = [0, 1, 0, 0, 0, 0]'),\n",
              " Text(287.85577812018494, 131.60842105263157, 'X[6] <= 132.5\\ngini = 0.32\\nsamples = 5\\nvalue = [0, 0, 0, 1, 4, 0]'),\n",
              " Text(286.8240369799692, 120.16421052631578, 'gini = 0.0\\nsamples = 4\\nvalue = [0, 0, 0, 0, 4, 0]'),\n",
              " Text(288.88751926040067, 120.16421052631578, 'gini = 0.0\\nsamples = 1\\nvalue = [0, 0, 0, 1, 0, 0]'),\n",
              " Text(295.5938366718028, 143.05263157894737, 'X[5] <= 39.0\\ngini = 0.228\\nsamples = 40\\nvalue = [0, 0, 1, 35, 3, 1]'),\n",
              " Text(294.5620955315871, 131.60842105263157, 'X[2] <= 0.725\\ngini = 0.188\\nsamples = 39\\nvalue = [0, 0, 1, 35, 3, 0]'),\n",
              " Text(293.53035439137136, 120.16421052631578, 'X[10] <= 11.65\\ngini = 0.148\\nsamples = 38\\nvalue = [0, 0, 1, 35, 2, 0]'),\n",
              " Text(290.95100154083207, 108.72, 'X[0] <= 8.9\\ngini = 0.5\\nsamples = 2\\nvalue = [0, 0, 0, 1, 1, 0]'),\n",
              " Text(289.9192604006164, 97.27578947368421, 'gini = 0.0\\nsamples = 1\\nvalue = [0, 0, 0, 1, 0, 0]'),\n",
              " Text(291.9827426810478, 97.27578947368421, 'gini = 0.0\\nsamples = 1\\nvalue = [0, 0, 0, 0, 1, 0]'),\n",
              " Text(296.10970724191066, 108.72, 'X[2] <= 0.665\\ngini = 0.106\\nsamples = 36\\nvalue = [0, 0, 1, 34, 1, 0]'),\n",
              " Text(294.04622496147925, 97.27578947368421, 'X[4] <= 0.089\\ngini = 0.059\\nsamples = 33\\nvalue = [0, 0, 0, 32, 1, 0]'),\n",
              " Text(293.0144838212635, 85.83157894736843, 'gini = 0.0\\nsamples = 27\\nvalue = [0, 0, 0, 27, 0, 0]'),\n",
              " Text(295.0779661016949, 85.83157894736843, 'X[8] <= 3.265\\ngini = 0.278\\nsamples = 6\\nvalue = [0, 0, 0, 5, 1, 0]'),\n",
              " Text(294.04622496147925, 74.38736842105263, 'gini = 0.0\\nsamples = 5\\nvalue = [0, 0, 0, 5, 0, 0]'),\n",
              " Text(296.10970724191066, 74.38736842105263, 'gini = 0.0\\nsamples = 1\\nvalue = [0, 0, 0, 0, 1, 0]'),\n",
              " Text(298.1731895223421, 97.27578947368421, 'X[8] <= 3.12\\ngini = 0.444\\nsamples = 3\\nvalue = [0, 0, 1, 2, 0, 0]'),\n",
              " Text(297.1414483821264, 85.83157894736843, 'gini = 0.0\\nsamples = 2\\nvalue = [0, 0, 0, 2, 0, 0]'),\n",
              " Text(299.20493066255784, 85.83157894736843, 'gini = 0.0\\nsamples = 1\\nvalue = [0, 0, 1, 0, 0, 0]'),\n",
              " Text(295.5938366718028, 120.16421052631578, 'gini = 0.0\\nsamples = 1\\nvalue = [0, 0, 0, 0, 1, 0]'),\n",
              " Text(296.62557781201855, 131.60842105263157, 'gini = 0.0\\nsamples = 1\\nvalue = [0, 0, 0, 0, 0, 1]'),\n",
              " Text(299.7208012326657, 165.94105263157894, 'X[0] <= 7.05\\ngini = 0.406\\nsamples = 8\\nvalue = [0, 1, 0, 1, 6, 0]'),\n",
              " Text(298.68906009244995, 154.49684210526317, 'gini = 0.0\\nsamples = 1\\nvalue = [0, 0, 0, 1, 0, 0]'),\n",
              " Text(300.7525423728814, 154.49684210526317, 'X[2] <= 0.425\\ngini = 0.245\\nsamples = 7\\nvalue = [0, 1, 0, 0, 6, 0]'),\n",
              " Text(299.7208012326657, 143.05263157894737, 'X[9] <= 0.61\\ngini = 0.5\\nsamples = 2\\nvalue = [0, 1, 0, 0, 1, 0]'),\n",
              " Text(298.68906009244995, 131.60842105263157, 'gini = 0.0\\nsamples = 1\\nvalue = [0, 1, 0, 0, 0, 0]'),\n",
              " Text(300.7525423728814, 131.60842105263157, 'gini = 0.0\\nsamples = 1\\nvalue = [0, 0, 0, 0, 1, 0]'),\n",
              " Text(301.78428351309714, 143.05263157894737, 'gini = 0.0\\nsamples = 5\\nvalue = [0, 0, 0, 0, 5, 0]'),\n",
              " Text(321.0004622496148, 177.38526315789474, 'X[5] <= 18.5\\ngini = 0.572\\nsamples = 94\\nvalue = [0, 0, 3, 30, 53, 8]'),\n",
              " Text(312.87550077041607, 165.94105263157894, 'X[5] <= 9.5\\ngini = 0.488\\nsamples = 62\\nvalue = [0, 0, 1, 13, 42, 6]'),\n",
              " Text(307.45885978428356, 154.49684210526317, 'X[1] <= 0.35\\ngini = 0.62\\nsamples = 30\\nvalue = [0, 0, 0, 11, 14, 5]'),\n",
              " Text(303.84776579352854, 143.05263157894737, 'X[7] <= 0.996\\ngini = 0.314\\nsamples = 11\\nvalue = [0, 0, 0, 1, 9, 1]'),\n",
              " Text(302.8160246533128, 131.60842105263157, 'gini = 0.0\\nsamples = 9\\nvalue = [0, 0, 0, 0, 9, 0]'),\n",
              " Text(304.87950693374427, 131.60842105263157, 'X[2] <= 0.49\\ngini = 0.5\\nsamples = 2\\nvalue = [0, 0, 0, 1, 0, 1]'),\n",
              " Text(303.84776579352854, 120.16421052631578, 'gini = 0.0\\nsamples = 1\\nvalue = [0, 0, 0, 1, 0, 0]'),\n",
              " Text(305.91124807396, 120.16421052631578, 'gini = 0.0\\nsamples = 1\\nvalue = [0, 0, 0, 0, 0, 1]'),\n",
              " Text(311.0699537750386, 143.05263157894737, 'X[9] <= 0.73\\ngini = 0.609\\nsamples = 19\\nvalue = [0, 0, 0, 10, 5, 4]'),\n",
              " Text(309.0064714946071, 131.60842105263157, 'X[4] <= 0.06\\ngini = 0.32\\nsamples = 5\\nvalue = [0, 0, 0, 1, 0, 4]'),\n",
              " Text(307.9747303543914, 120.16421052631578, 'gini = 0.0\\nsamples = 1\\nvalue = [0, 0, 0, 1, 0, 0]'),\n",
              " Text(310.03821263482286, 120.16421052631578, 'gini = 0.0\\nsamples = 4\\nvalue = [0, 0, 0, 0, 0, 4]'),\n",
              " Text(313.13343605547, 131.60842105263157, 'X[9] <= 0.845\\ngini = 0.459\\nsamples = 14\\nvalue = [0, 0, 0, 9, 5, 0]'),\n",
              " Text(312.10169491525426, 120.16421052631578, 'X[9] <= 0.805\\ngini = 0.469\\nsamples = 8\\nvalue = [0, 0, 0, 3, 5, 0]'),\n",
              " Text(311.0699537750386, 108.72, 'X[6] <= 28.5\\ngini = 0.375\\nsamples = 4\\nvalue = [0, 0, 0, 3, 1, 0]'),\n",
              " Text(310.03821263482286, 97.27578947368421, 'gini = 0.0\\nsamples = 3\\nvalue = [0, 0, 0, 3, 0, 0]'),\n",
              " Text(312.10169491525426, 97.27578947368421, 'gini = 0.0\\nsamples = 1\\nvalue = [0, 0, 0, 0, 1, 0]'),\n",
              " Text(313.13343605547, 108.72, 'gini = 0.0\\nsamples = 4\\nvalue = [0, 0, 0, 0, 4, 0]'),\n",
              " Text(314.1651771956857, 120.16421052631578, 'gini = 0.0\\nsamples = 6\\nvalue = [0, 0, 0, 6, 0, 0]'),\n",
              " Text(318.2921417565486, 154.49684210526317, 'X[9] <= 0.7\\ngini = 0.229\\nsamples = 32\\nvalue = [0, 0, 1, 2, 28, 1]'),\n",
              " Text(316.2286594761171, 143.05263157894737, 'X[2] <= 0.41\\ngini = 0.5\\nsamples = 2\\nvalue = [0, 0, 1, 1, 0, 0]'),\n",
              " Text(315.19691833590144, 131.60842105263157, 'gini = 0.0\\nsamples = 1\\nvalue = [0, 0, 1, 0, 0, 0]'),\n",
              " Text(317.26040061633284, 131.60842105263157, 'gini = 0.0\\nsamples = 1\\nvalue = [0, 0, 0, 1, 0, 0]'),\n",
              " Text(320.35562403698003, 143.05263157894737, 'X[1] <= 0.843\\ngini = 0.127\\nsamples = 30\\nvalue = [0, 0, 0, 1, 28, 1]'),\n",
              " Text(319.3238828967643, 131.60842105263157, 'X[4] <= 0.155\\ngini = 0.067\\nsamples = 29\\nvalue = [0, 0, 0, 1, 28, 0]'),\n",
              " Text(318.2921417565486, 120.16421052631578, 'gini = 0.0\\nsamples = 28\\nvalue = [0, 0, 0, 0, 28, 0]'),\n",
              " Text(320.35562403698003, 120.16421052631578, 'gini = 0.0\\nsamples = 1\\nvalue = [0, 0, 0, 1, 0, 0]'),\n",
              " Text(321.3873651771957, 131.60842105263157, 'gini = 0.0\\nsamples = 1\\nvalue = [0, 0, 0, 0, 0, 1]'),\n",
              " Text(329.1254237288136, 165.94105263157894, 'X[8] <= 3.36\\ngini = 0.592\\nsamples = 32\\nvalue = [0, 0, 2, 17, 11, 2]'),\n",
              " Text(326.5460708782743, 154.49684210526317, 'X[3] <= 2.15\\ngini = 0.565\\nsamples = 20\\nvalue = [0, 0, 2, 7, 11, 0]'),\n",
              " Text(324.4825885978429, 143.05263157894737, 'X[1] <= 0.235\\ngini = 0.278\\nsamples = 6\\nvalue = [0, 0, 0, 5, 1, 0]'),\n",
              " Text(323.45084745762716, 131.60842105263157, 'gini = 0.0\\nsamples = 1\\nvalue = [0, 0, 0, 0, 1, 0]'),\n",
              " Text(325.51432973805856, 131.60842105263157, 'gini = 0.0\\nsamples = 5\\nvalue = [0, 0, 0, 5, 0, 0]'),\n",
              " Text(328.60955315870575, 143.05263157894737, 'X[0] <= 12.1\\ngini = 0.449\\nsamples = 14\\nvalue = [0, 0, 2, 2, 10, 0]'),\n",
              " Text(327.57781201849, 131.60842105263157, 'X[6] <= 89.0\\ngini = 0.278\\nsamples = 12\\nvalue = [0, 0, 0, 2, 10, 0]'),\n",
              " Text(326.5460708782743, 120.16421052631578, 'X[8] <= 3.325\\ngini = 0.165\\nsamples = 11\\nvalue = [0, 0, 0, 1, 10, 0]'),\n",
              " Text(325.51432973805856, 108.72, 'gini = 0.0\\nsamples = 8\\nvalue = [0, 0, 0, 0, 8, 0]'),\n",
              " Text(327.57781201849, 108.72, 'X[6] <= 50.5\\ngini = 0.444\\nsamples = 3\\nvalue = [0, 0, 0, 1, 2, 0]'),\n",
              " Text(326.5460708782743, 97.27578947368421, 'gini = 0.0\\nsamples = 2\\nvalue = [0, 0, 0, 0, 2, 0]'),\n",
              " Text(328.60955315870575, 97.27578947368421, 'gini = 0.0\\nsamples = 1\\nvalue = [0, 0, 0, 1, 0, 0]'),\n",
              " Text(328.60955315870575, 120.16421052631578, 'gini = 0.0\\nsamples = 1\\nvalue = [0, 0, 0, 1, 0, 0]'),\n",
              " Text(329.6412942989215, 131.60842105263157, 'gini = 0.0\\nsamples = 2\\nvalue = [0, 0, 2, 0, 0, 0]'),\n",
              " Text(331.7047765793529, 154.49684210526317, 'X[5] <= 27.5\\ngini = 0.278\\nsamples = 12\\nvalue = [0, 0, 0, 10, 0, 2]'),\n",
              " Text(330.67303543913715, 143.05263157894737, 'gini = 0.0\\nsamples = 9\\nvalue = [0, 0, 0, 9, 0, 0]'),\n",
              " Text(332.7365177195686, 143.05263157894737, 'X[1] <= 0.595\\ngini = 0.444\\nsamples = 3\\nvalue = [0, 0, 0, 1, 0, 2]'),\n",
              " Text(331.7047765793529, 131.60842105263157, 'gini = 0.0\\nsamples = 2\\nvalue = [0, 0, 0, 0, 0, 2]'),\n",
              " Text(333.76825885978434, 131.60842105263157, 'gini = 0.0\\nsamples = 1\\nvalue = [0, 0, 0, 1, 0, 0]')]"
            ]
          },
          "metadata": {
            "tags": []
          },
          "execution_count": 40
        },
        {
          "output_type": "display_data",
          "data": {
            "image/png": "[encoded data removed]",
            "text/plain": [
              "<Figure size 432x288 with 1 Axes>"
            ]
          },
          "metadata": {
            "tags": [],
            "needs_background": "light"
          }
        }
      ]
    },
    {
      "cell_type": "markdown",
      "metadata": {
        "id": "QwHaAptv-drS"
      },
      "source": [
        "## 修剪"
      ]
    },
    {
      "cell_type": "code",
      "metadata": {
        "id": "4w58q9H2_s-e"
      },
      "source": [
        "import matplotlib.pyplot as plt"
      ],
      "execution_count": 42,
      "outputs": []
    },
    {
      "cell_type": "code",
      "metadata": {
        "id": "CjcesQqm-pIT"
      },
      "source": [
        "clf = DecisionTreeClassifier(random_state=0)\n",
        "path = clf.cost_complexity_pruning_path(X_train, y_train)\n",
        "ccp_alphas, impurities = path.ccp_alphas, path.impurities"
      ],
      "execution_count": 43,
      "outputs": []
    },
    {
      "cell_type": "code",
      "metadata": {
        "id": "PKkDw_Ax_mk_",
        "outputId": "29481801-3f1f-451e-d23f-58998ff70650",
        "colab": {
          "base_uri": "https://localhost:8080/",
          "height": 312
        }
      },
      "source": [
        "fig, ax = plt.subplots()\n",
        "ax.plot(ccp_alphas[:-1], impurities[:-1], marker='o', drawstyle=\"steps-post\")\n",
        "ax.set_xlabel(\"effective alpha\")\n",
        "ax.set_ylabel(\"total impurity of leaves\")\n",
        "ax.set_title(\"Total Impurity vs effective alpha for training set\")"
      ],
      "execution_count": 44,
      "outputs": [
        {
          "output_type": "execute_result",
          "data": {
            "text/plain": [
              "Text(0.5, 1.0, 'Total Impurity vs effective alpha for training set')"
            ]
          },
          "metadata": {
            "tags": []
          },
          "execution_count": 44
        },
        {
          "output_type": "display_data",
          "data": {
            "image/png": "[encoded data removed]",
            "text/plain": [
              "<Figure size 432x288 with 1 Axes>"
            ]
          },
          "metadata": {
            "tags": [],
            "needs_background": "light"
          }
        }
      ]
    },
    {
      "cell_type": "code",
      "metadata": {
        "id": "NBZ2JOMtAUc1",
        "outputId": "f2a90adc-38bf-44ad-accc-9cbc62ce5e4f",
        "colab": {
          "base_uri": "https://localhost:8080/",
          "height": 34
        }
      },
      "source": [
        "clfs = []\n",
        "for ccp_alpha in ccp_alphas:\n",
        "    clf = DecisionTreeClassifier(random_state=0, ccp_alpha=ccp_alpha)\n",
        "    clf.fit(X_train, y_train)\n",
        "    clfs.append(clf)\n",
        "print(\"Number of nodes in the last tree is: {} with ccp_alpha: {}\".format(\n",
        "      clfs[-1].tree_.node_count, ccp_alphas[-1]))"
      ],
      "execution_count": 45,
      "outputs": [
        {
          "output_type": "stream",
          "text": [
            "Number of nodes in the last tree is: 1 with ccp_alpha: 0.06120049979000475\n"
          ],
          "name": "stdout"
        }
      ]
    },
    {
      "cell_type": "code",
      "metadata": {
        "id": "KxHDcA9sAMCZ",
        "outputId": "2a4c33e2-db22-4f90-930b-509041d9c1a6",
        "colab": {
          "base_uri": "https://localhost:8080/",
          "height": 297
        }
      },
      "source": [
        "clfs = clfs[:-1]\n",
        "ccp_alphas = ccp_alphas[:-1]\n",
        "node_counts = [clf.tree_.node_count for clf in clfs]\n",
        "depth = [clf.tree_.max_depth for clf in clfs]\n",
        "fig, ax = plt.subplots(2, 1)\n",
        "ax[0].plot(ccp_alphas, node_counts, marker='o', drawstyle=\"steps-post\")\n",
        "ax[0].set_xlabel(\"alpha\")\n",
        "ax[0].set_ylabel(\"number of nodes\")\n",
        "ax[0].set_title(\"Number of nodes vs alpha\")\n",
        "ax[1].plot(ccp_alphas, depth, marker='o', drawstyle=\"steps-post\")\n",
        "ax[1].set_xlabel(\"alpha\")\n",
        "ax[1].set_ylabel(\"depth of tree\")\n",
        "ax[1].set_title(\"Depth vs alpha\")\n",
        "fig.tight_layout()"
      ],
      "execution_count": 46,
      "outputs": [
        {
          "output_type": "display_data",
          "data": {
            "image/png": "[encoded data removed]",
            "text/plain": [
              "<Figure size 432x288 with 2 Axes>"
            ]
          },
          "metadata": {
            "tags": [],
            "needs_background": "light"
          }
        }
      ]
    },
    {
      "cell_type": "markdown",
      "metadata": {
        "id": "1QBDde2FQSq3"
      },
      "source": [
        "### 得出避免過度訓練的alpha值\n",
        "* alpha 為0.006"
      ]
    },
    {
      "cell_type": "code",
      "metadata": {
        "id": "s7jtdQFXBVYI",
        "outputId": "2e53032b-372c-4b69-85bb-b6a5dc2b6154",
        "colab": {
          "base_uri": "https://localhost:8080/",
          "height": 295
        }
      },
      "source": [
        "train_scores = [clf.score(X_train, y_train) for clf in clfs]\n",
        "test_scores = [clf.score(X_test, y_test) for clf in clfs]\n",
        "\n",
        "fig, ax = plt.subplots()\n",
        "ax.set_xlabel(\"alpha\")\n",
        "ax.set_ylabel(\"accuracy\")\n",
        "ax.set_title(\"Accuracy vs alpha for training and testing sets\")\n",
        "ax.plot(ccp_alphas, train_scores, marker='o', label=\"train\",\n",
        "        drawstyle=\"steps-post\")\n",
        "ax.plot(ccp_alphas, test_scores, marker='o', label=\"test\",\n",
        "        drawstyle=\"steps-post\")\n",
        "ax.legend()\n",
        "plt.show()"
      ],
      "execution_count": 47,
      "outputs": [
        {
          "output_type": "display_data",
          "data": {
            "image/png": "[encoded data removed]",
            "text/plain": [
              "<Figure size 432x288 with 1 Axes>"
            ]
          },
          "metadata": {
            "tags": [],
            "needs_background": "light"
          }
        }
      ]
    },
    {
      "cell_type": "markdown",
      "metadata": {
        "id": "woRyJH9f-mkE"
      },
      "source": [
        "### 修剪後Decision tree(第二次)"
      ]
    },
    {
      "cell_type": "code",
      "metadata": {
        "id": "vLuyPhAOCP3T"
      },
      "source": [
        "from sklearn.tree import DecisionTreeClassifier\n",
        "from sklearn.model_selection import train_test_split\n",
        "from sklearn.metrics import classification_report, confusion_matrix\n",
        "from sklearn import tree\n",
        "import pydot"
      ],
      "execution_count": 48,
      "outputs": []
    },
    {
      "cell_type": "code",
      "metadata": {
        "id": "xf8vFj2YCaPT",
        "outputId": "31724908-d221-4e6f-fb70-b704b793b48b",
        "colab": {
          "base_uri": "https://localhost:8080/",
          "height": 419
        }
      },
      "source": [
        "df_9 = pd.read_csv(\"/content/drive/My Drive/Colab Notebooks/資料探勘作業/winequality-red.csv\")\n",
        "df_10=df_9\n",
        "df_10"
      ],
      "execution_count": 50,
      "outputs": [
        {
          "output_type": "execute_result",
          "data": {
            "text/html": [
              "<div>\n",
              "<style scoped>\n",
              "    .dataframe tbody tr th:only-of-type {\n",
              "        vertical-align: middle;\n",
              "    }\n",
              "\n",
              "    .dataframe tbody tr th {\n",
              "        vertical-align: top;\n",
              "    }\n",
              "\n",
              "    .dataframe thead th {\n",
              "        text-align: right;\n",
              "    }\n",
              "</style>\n",
              "<table border=\"1\" class=\"dataframe\">\n",
              "  <thead>\n",
              "    <tr style=\"text-align: right;\">\n",
              "      <th></th>\n",
              "      <th>fixed acidity</th>\n",
              "      <th>volatile acidity</th>\n",
              "      <th>citric acid</th>\n",
              "      <th>residual sugar</th>\n",
              "      <th>chlorides</th>\n",
              "      <th>free sulfur dioxide</th>\n",
              "      <th>total sulfur dioxide</th>\n",
              "      <th>density</th>\n",
              "      <th>pH</th>\n",
              "      <th>sulphates</th>\n",
              "      <th>alcohol</th>\n",
              "      <th>quality</th>\n",
              "    </tr>\n",
              "  </thead>\n",
              "  <tbody>\n",
              "    <tr>\n",
              "      <th>0</th>\n",
              "      <td>7.4</td>\n",
              "      <td>0.700</td>\n",
              "      <td>0.00</td>\n",
              "      <td>1.9</td>\n",
              "      <td>0.076</td>\n",
              "      <td>11.0</td>\n",
              "      <td>34.0</td>\n",
              "      <td>0.99780</td>\n",
              "      <td>3.51</td>\n",
              "      <td>0.56</td>\n",
              "      <td>9.4</td>\n",
              "      <td>5</td>\n",
              "    </tr>\n",
              "    <tr>\n",
              "      <th>1</th>\n",
              "      <td>7.8</td>\n",
              "      <td>0.880</td>\n",
              "      <td>0.00</td>\n",
              "      <td>2.6</td>\n",
              "      <td>0.098</td>\n",
              "      <td>25.0</td>\n",
              "      <td>67.0</td>\n",
              "      <td>0.99680</td>\n",
              "      <td>3.20</td>\n",
              "      <td>0.68</td>\n",
              "      <td>9.8</td>\n",
              "      <td>5</td>\n",
              "    </tr>\n",
              "    <tr>\n",
              "      <th>2</th>\n",
              "      <td>7.8</td>\n",
              "      <td>0.760</td>\n",
              "      <td>0.04</td>\n",
              "      <td>2.3</td>\n",
              "      <td>0.092</td>\n",
              "      <td>15.0</td>\n",
              "      <td>54.0</td>\n",
              "      <td>0.99700</td>\n",
              "      <td>3.26</td>\n",
              "      <td>0.65</td>\n",
              "      <td>9.8</td>\n",
              "      <td>5</td>\n",
              "    </tr>\n",
              "    <tr>\n",
              "      <th>3</th>\n",
              "      <td>11.2</td>\n",
              "      <td>0.280</td>\n",
              "      <td>0.56</td>\n",
              "      <td>1.9</td>\n",
              "      <td>0.075</td>\n",
              "      <td>17.0</td>\n",
              "      <td>60.0</td>\n",
              "      <td>0.99800</td>\n",
              "      <td>3.16</td>\n",
              "      <td>0.58</td>\n",
              "      <td>9.8</td>\n",
              "      <td>6</td>\n",
              "    </tr>\n",
              "    <tr>\n",
              "      <th>4</th>\n",
              "      <td>7.4</td>\n",
              "      <td>0.700</td>\n",
              "      <td>0.00</td>\n",
              "      <td>1.9</td>\n",
              "      <td>0.076</td>\n",
              "      <td>11.0</td>\n",
              "      <td>34.0</td>\n",
              "      <td>0.99780</td>\n",
              "      <td>3.51</td>\n",
              "      <td>0.56</td>\n",
              "      <td>9.4</td>\n",
              "      <td>5</td>\n",
              "    </tr>\n",
              "    <tr>\n",
              "      <th>...</th>\n",
              "      <td>...</td>\n",
              "      <td>...</td>\n",
              "      <td>...</td>\n",
              "      <td>...</td>\n",
              "      <td>...</td>\n",
              "      <td>...</td>\n",
              "      <td>...</td>\n",
              "      <td>...</td>\n",
              "      <td>...</td>\n",
              "      <td>...</td>\n",
              "      <td>...</td>\n",
              "      <td>...</td>\n",
              "    </tr>\n",
              "    <tr>\n",
              "      <th>1594</th>\n",
              "      <td>6.2</td>\n",
              "      <td>0.600</td>\n",
              "      <td>0.08</td>\n",
              "      <td>2.0</td>\n",
              "      <td>0.090</td>\n",
              "      <td>32.0</td>\n",
              "      <td>44.0</td>\n",
              "      <td>0.99490</td>\n",
              "      <td>3.45</td>\n",
              "      <td>0.58</td>\n",
              "      <td>10.5</td>\n",
              "      <td>5</td>\n",
              "    </tr>\n",
              "    <tr>\n",
              "      <th>1595</th>\n",
              "      <td>5.9</td>\n",
              "      <td>0.550</td>\n",
              "      <td>0.10</td>\n",
              "      <td>2.2</td>\n",
              "      <td>0.062</td>\n",
              "      <td>39.0</td>\n",
              "      <td>51.0</td>\n",
              "      <td>0.99512</td>\n",
              "      <td>3.52</td>\n",
              "      <td>0.76</td>\n",
              "      <td>11.2</td>\n",
              "      <td>6</td>\n",
              "    </tr>\n",
              "    <tr>\n",
              "      <th>1596</th>\n",
              "      <td>6.3</td>\n",
              "      <td>0.510</td>\n",
              "      <td>0.13</td>\n",
              "      <td>2.3</td>\n",
              "      <td>0.076</td>\n",
              "      <td>29.0</td>\n",
              "      <td>40.0</td>\n",
              "      <td>0.99574</td>\n",
              "      <td>3.42</td>\n",
              "      <td>0.75</td>\n",
              "      <td>11.0</td>\n",
              "      <td>6</td>\n",
              "    </tr>\n",
              "    <tr>\n",
              "      <th>1597</th>\n",
              "      <td>5.9</td>\n",
              "      <td>0.645</td>\n",
              "      <td>0.12</td>\n",
              "      <td>2.0</td>\n",
              "      <td>0.075</td>\n",
              "      <td>32.0</td>\n",
              "      <td>44.0</td>\n",
              "      <td>0.99547</td>\n",
              "      <td>3.57</td>\n",
              "      <td>0.71</td>\n",
              "      <td>10.2</td>\n",
              "      <td>5</td>\n",
              "    </tr>\n",
              "    <tr>\n",
              "      <th>1598</th>\n",
              "      <td>6.0</td>\n",
              "      <td>0.310</td>\n",
              "      <td>0.47</td>\n",
              "      <td>3.6</td>\n",
              "      <td>0.067</td>\n",
              "      <td>18.0</td>\n",
              "      <td>42.0</td>\n",
              "      <td>0.99549</td>\n",
              "      <td>3.39</td>\n",
              "      <td>0.66</td>\n",
              "      <td>11.0</td>\n",
              "      <td>6</td>\n",
              "    </tr>\n",
              "  </tbody>\n",
              "</table>\n",
              "<p>1599 rows × 12 columns</p>\n",
              "</div>"
            ],
            "text/plain": [
              "      fixed acidity  volatile acidity  citric acid  ...  sulphates  alcohol  quality\n",
              "0               7.4             0.700         0.00  ...       0.56      9.4        5\n",
              "1               7.8             0.880         0.00  ...       0.68      9.8        5\n",
              "2               7.8             0.760         0.04  ...       0.65      9.8        5\n",
              "3              11.2             0.280         0.56  ...       0.58      9.8        6\n",
              "4               7.4             0.700         0.00  ...       0.56      9.4        5\n",
              "...             ...               ...          ...  ...        ...      ...      ...\n",
              "1594            6.2             0.600         0.08  ...       0.58     10.5        5\n",
              "1595            5.9             0.550         0.10  ...       0.76     11.2        6\n",
              "1596            6.3             0.510         0.13  ...       0.75     11.0        6\n",
              "1597            5.9             0.645         0.12  ...       0.71     10.2        5\n",
              "1598            6.0             0.310         0.47  ...       0.66     11.0        6\n",
              "\n",
              "[1599 rows x 12 columns]"
            ]
          },
          "metadata": {
            "tags": []
          },
          "execution_count": 50
        }
      ]
    },
    {
      "cell_type": "code",
      "metadata": {
        "id": "TxhN2tutCsI2"
      },
      "source": [
        "X = df_10.drop('quality', axis=1)\n",
        "y = df_10['quality']\n",
        "X_train, X_test, y_train, y_test = train_test_split(X, y, test_size=0.20)"
      ],
      "execution_count": 51,
      "outputs": []
    },
    {
      "cell_type": "code",
      "metadata": {
        "id": "qKuE2hh2By4F",
        "outputId": "d5311e41-2a05-40bd-b26e-1bc280610c8e",
        "colab": {
          "base_uri": "https://localhost:8080/",
          "height": 119
        }
      },
      "source": [
        "classifier = DecisionTreeClassifier(ccp_alpha=0.006)\n",
        "classifier.fit(X_train, y_train)"
      ],
      "execution_count": 55,
      "outputs": [
        {
          "output_type": "execute_result",
          "data": {
            "text/plain": [
              "DecisionTreeClassifier(ccp_alpha=0.006, class_weight=None, criterion='gini',\n",
              "                       max_depth=None, max_features=None, max_leaf_nodes=None,\n",
              "                       min_impurity_decrease=0.0, min_impurity_split=None,\n",
              "                       min_samples_leaf=1, min_samples_split=2,\n",
              "                       min_weight_fraction_leaf=0.0, presort='deprecated',\n",
              "                       random_state=None, splitter='best')"
            ]
          },
          "metadata": {
            "tags": []
          },
          "execution_count": 55
        }
      ]
    },
    {
      "cell_type": "code",
      "metadata": {
        "id": "0kHwDeXQDMrv"
      },
      "source": [
        "y_pred = classifier.predict(X_test)"
      ],
      "execution_count": 56,
      "outputs": []
    },
    {
      "cell_type": "markdown",
      "metadata": {
        "id": "XQ5w6OjCQvch"
      },
      "source": [
        "### 分類結果"
      ]
    },
    {
      "cell_type": "code",
      "metadata": {
        "id": "U81aVX4yDMrx",
        "outputId": "2275eeb1-b775-498d-a906-77d596e48cd4",
        "colab": {
          "base_uri": "https://localhost:8080/",
          "height": 394
        }
      },
      "source": [
        "print(confusion_matrix(y_test, y_pred))\n",
        "print(classification_report(y_test, y_pred))"
      ],
      "execution_count": 57,
      "outputs": [
        {
          "output_type": "stream",
          "text": [
            "[[  0   0   1   0   0   0]\n",
            " [  0   0   7   4   0   0]\n",
            " [  0   0 100  47   0   0]\n",
            " [  0   0  44  83   0   0]\n",
            " [  0   0   1  32   0   0]\n",
            " [  0   0   0   1   0   0]]\n",
            "              precision    recall  f1-score   support\n",
            "\n",
            "           3       0.00      0.00      0.00         1\n",
            "           4       0.00      0.00      0.00        11\n",
            "           5       0.65      0.68      0.67       147\n",
            "           6       0.50      0.65      0.56       127\n",
            "           7       0.00      0.00      0.00        33\n",
            "           8       0.00      0.00      0.00         1\n",
            "\n",
            "    accuracy                           0.57       320\n",
            "   macro avg       0.19      0.22      0.21       320\n",
            "weighted avg       0.50      0.57      0.53       320\n",
            "\n"
          ],
          "name": "stdout"
        },
        {
          "output_type": "stream",
          "text": [
            "/usr/local/lib/python3.6/dist-packages/sklearn/metrics/_classification.py:1272: UndefinedMetricWarning: Precision and F-score are ill-defined and being set to 0.0 in labels with no predicted samples. Use `zero_division` parameter to control this behavior.\n",
            "  _warn_prf(average, modifier, msg_start, len(result))\n"
          ],
          "name": "stderr"
        }
      ]
    },
    {
      "cell_type": "code",
      "metadata": {
        "id": "mi3SGf1LDMrz"
      },
      "source": [
        "dot_data = StringIO()"
      ],
      "execution_count": 58,
      "outputs": []
    },
    {
      "cell_type": "code",
      "metadata": {
        "id": "SzlHA2e7DMr0"
      },
      "source": [
        "tree.export_graphviz(classifier,\n",
        "        out_file=dot_data,\n",
        "        feature_names=['fixed acidity', 'volatile acidity', 'citric acid', 'residual sugar',\n",
        "       'chlorides', 'free sulfur dioxide', 'total sulfur dioxide', 'density ', 'pH ',\n",
        "       'sulphates ', 'alcohol '],\n",
        "        class_names=['5',\"6\",\"7\",\"4\",\"8\",\"3\"],\n",
        "        filled=True, rounded=True,\n",
        "        impurity=False)"
      ],
      "execution_count": 59,
      "outputs": []
    },
    {
      "cell_type": "code",
      "metadata": {
        "id": "lTsHSg0tDMr1"
      },
      "source": [
        "graph = pydot.graph_from_dot_data(dot_data.getvalue())"
      ],
      "execution_count": 60,
      "outputs": []
    },
    {
      "cell_type": "markdown",
      "metadata": {
        "id": "U9oexomARf2m"
      },
      "source": [
        "### 決策樹結果"
      ]
    },
    {
      "cell_type": "code",
      "metadata": {
        "id": "Z4bg9aV-DMr3"
      },
      "source": [
        "graph[0].write_pdf(\"/content/drive/My Drive/Colab Notebooks/資料探勘作業/紅酒最終.pdf\")"
      ],
      "execution_count": 61,
      "outputs": []
    },
    {
      "cell_type": "markdown",
      "metadata": {
        "id": "GRpsk7nVRLsE"
      },
      "source": [
        "![Image](https://imgur.com/WnGaOIa.png)"
      ]
    },
    {
      "cell_type": "code",
      "metadata": {
        "id": "jev5t1_vDMr5",
        "outputId": "ca6b362e-d9ea-4862-8a8e-9d2410981880",
        "colab": {
          "base_uri": "https://localhost:8080/",
          "height": 503
        }
      },
      "source": [
        "tree.plot_tree(classifier)"
      ],
      "execution_count": 62,
      "outputs": [
        {
          "output_type": "execute_result",
          "data": {
            "text/plain": [
              "[Text(186.0, 199.32, 'X[10] <= 10.525\\ngini = 0.648\\nsamples = 1279\\nvalue = [9, 42, 534, 511, 166, 17]'),\n",
              " Text(111.60000000000001, 163.07999999999998, 'X[6] <= 83.5\\ngini = 0.545\\nsamples = 779\\nvalue = [7, 26, 456, 258, 30, 2]'),\n",
              " Text(74.4, 126.83999999999999, 'X[9] <= 0.535\\ngini = 0.58\\nsamples = 622\\nvalue = [7, 23, 324, 237, 29, 2]'),\n",
              " Text(37.2, 90.6, 'gini = 0.427\\nsamples = 143\\nvalue = [2, 13, 105, 23, 0, 0]'),\n",
              " Text(111.60000000000001, 90.6, 'X[10] <= 9.85\\ngini = 0.587\\nsamples = 479\\nvalue = [5, 10, 219, 214, 29, 2]'),\n",
              " Text(74.4, 54.359999999999985, 'X[0] <= 10.85\\ngini = 0.532\\nsamples = 278\\nvalue = [3, 4, 157, 107, 6, 1]'),\n",
              " Text(37.2, 18.119999999999976, 'gini = 0.506\\nsamples = 254\\nvalue = [2, 4, 154, 90, 4, 0]'),\n",
              " Text(111.60000000000001, 18.119999999999976, 'gini = 0.472\\nsamples = 24\\nvalue = [1, 0, 3, 17, 2, 1]'),\n",
              " Text(148.8, 54.359999999999985, 'gini = 0.607\\nsamples = 201\\nvalue = [2, 6, 62, 107, 23, 1]'),\n",
              " Text(148.8, 126.83999999999999, 'gini = 0.275\\nsamples = 157\\nvalue = [0, 3, 132, 21, 1, 0]'),\n",
              " Text(260.40000000000003, 163.07999999999998, 'X[2] <= 0.275\\ngini = 0.644\\nsamples = 500\\nvalue = [2, 16, 78, 253, 136, 15]'),\n",
              " Text(223.20000000000002, 126.83999999999999, 'X[9] <= 0.525\\ngini = 0.603\\nsamples = 212\\nvalue = [2, 15, 47, 122, 23, 3]'),\n",
              " Text(186.0, 90.6, 'gini = 0.545\\nsamples = 32\\nvalue = [1, 2, 19, 10, 0, 0]'),\n",
              " Text(260.40000000000003, 90.6, 'gini = 0.567\\nsamples = 180\\nvalue = [1, 13, 28, 112, 23, 3]'),\n",
              " Text(297.6, 126.83999999999999, 'gini = 0.626\\nsamples = 288\\nvalue = [0, 1, 31, 131, 113, 12]')]"
            ]
          },
          "metadata": {
            "tags": []
          },
          "execution_count": 62
        },
        {
          "output_type": "display_data",
          "data": {
            "image/png": "[encoded data removed]",
            "text/plain": [
              "<Figure size 432x288 with 1 Axes>"
            ]
          },
          "metadata": {
            "tags": [],
            "needs_background": "light"
          }
        }
      ]
    }
  ]
}